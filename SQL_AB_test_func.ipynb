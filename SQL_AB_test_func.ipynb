{
 "cells": [
  {
   "cell_type": "code",
   "execution_count": 342,
   "id": "f8176f90",
   "metadata": {},
   "outputs": [],
   "source": [
    "import pandas as pd \n",
    "import numpy as np \n",
    "import requests \n",
    "import seaborn as sns \n",
    "import matplotlib.pyplot as plt\n",
    "from urllib.parse import urlencode\n",
    "from scipy.stats import ttest_ind\n",
    "from scipy.stats import shapiro\n",
    "from scipy.stats import chi2_contingency\n",
    "from scipy.stats import levene\n",
    "from scipy.stats import bootstrap\n",
    "import statsmodels.api as sm\n",
    "from scipy import stats\n",
    "import pandahouse as ph\n",
    "import pingouin as pg"
   ]
  },
  {
   "cell_type": "markdown",
   "id": "68b484f6",
   "metadata": {},
   "source": [
    "1. [A/B тестирование](#AB)   \n",
    "1.1. [Расчет метрик](#metrics)  \n",
    "1.2. [Выводы](#summary)\n",
    "2. [SQL CLickHouse](#SQL)\n",
    "3. [Реализации функции для доп. файла и визуализации метрик](#function)"
   ]
  },
  {
   "cell_type": "markdown",
   "id": "316af5ab",
   "metadata": {},
   "source": [
    "<a name=\"AB\"></a> \n",
    "## Задание 1. A/B–тестирование ##"
   ]
  },
  {
   "cell_type": "markdown",
   "id": "d5863a77",
   "metadata": {},
   "source": [
    "**Условие: <br/>**\n",
    "Одной из основных задач аналитика в нашей команде является корректное проведение экспериментов. Для этого мы применяем метод A/B–тестирования. В ходе тестирования одной гипотезы целевой группе была предложена новая механика оплаты услуг на сайте, у контрольной группы оставалась базовая механика. В качестве задания вам необходимо проанализировать итоги эксперимента и сделать вывод, стоит ли запускать новую механику оплаты на всех пользователей."
   ]
  },
  {
   "cell_type": "markdown",
   "id": "7dd7e900",
   "metadata": {},
   "source": [
    "**Вопросы:**\n",
    "\n",
    "1. На какие метрики вы смотрите в ходе анализа и почему?\n",
    "2. Имеются ли различия в показателях и с чем они могут быть связаны?\n",
    "3. Являются ли эти различия статистически значимыми?\n",
    "4. Стоит ли запускать новую механику на всех пользователей?"
   ]
  },
  {
   "cell_type": "markdown",
   "id": "40317ca0",
   "metadata": {},
   "source": [
    "**Входные данные:** <br/>\n",
    "\n",
    "Считываем и загружаем данные в дата-фрейм из Яндекс диска с помощью API. <br/>\n",
    "Поскольку у нас 4 дата-сета, то создадим функцию для удобства. "
   ]
  },
  {
   "cell_type": "code",
   "execution_count": 30,
   "id": "8f74bf70",
   "metadata": {},
   "outputs": [],
   "source": [
    "def ya_disk(url):\n",
    "    base_url = 'https://cloud-api.yandex.net/v1/disk/public/resources/download?'\n",
    "    public_key = url\n",
    "    final_url = base_url + urlencode(dict(public_key=public_key))\n",
    "    response = requests.get(final_url)\n",
    "    return response.json()['href']"
   ]
  },
  {
   "cell_type": "code",
   "execution_count": 34,
   "id": "82cd272b",
   "metadata": {},
   "outputs": [],
   "source": [
    "checks = pd.read_csv(ya_disk('https://disk.yandex.ru/d/pH1q-VqcxXjsVA'), sep=';')"
   ]
  },
  {
   "cell_type": "code",
   "execution_count": 35,
   "id": "bacd007e",
   "metadata": {},
   "outputs": [],
   "source": [
    "active_studs = pd.read_csv(ya_disk('https://disk.yandex.ru/d/Tbs44Bm6H_FwFQ'), sep=';')"
   ]
  },
  {
   "cell_type": "code",
   "execution_count": 39,
   "id": "c7499952",
   "metadata": {},
   "outputs": [],
   "source": [
    "group_add = pd.read_csv(ya_disk('https://disk.yandex.ru/d/5Kxrz02m3IBUwQ'), sep=',')"
   ]
  },
  {
   "cell_type": "code",
   "execution_count": 43,
   "id": "caa20e34",
   "metadata": {},
   "outputs": [],
   "source": [
    "groups = pd.read_csv(ya_disk('https://disk.yandex.ru/d/UhyYx41rTt3clQ'), sep=';')"
   ]
  },
  {
   "cell_type": "markdown",
   "id": "84f266a2",
   "metadata": {},
   "source": [
    "Начнем с предварительного анализа данных (EDA). "
   ]
  },
  {
   "cell_type": "markdown",
   "id": "335aab01",
   "metadata": {},
   "source": [
    "Узнаем размер дата-фреймов, нет ли null значений и типы данных."
   ]
  },
  {
   "cell_type": "code",
   "execution_count": 45,
   "id": "ca7fd9b7",
   "metadata": {},
   "outputs": [
    {
     "name": "stdout",
     "output_type": "stream",
     "text": [
      "<class 'pandas.core.frame.DataFrame'>\n",
      "RangeIndex: 541 entries, 0 to 540\n",
      "Data columns (total 2 columns):\n",
      " #   Column      Non-Null Count  Dtype  \n",
      "---  ------      --------------  -----  \n",
      " 0   student_id  541 non-null    int64  \n",
      " 1   rev         541 non-null    float64\n",
      "dtypes: float64(1), int64(1)\n",
      "memory usage: 8.6 KB\n"
     ]
    }
   ],
   "source": [
    "checks.info()"
   ]
  },
  {
   "cell_type": "code",
   "execution_count": 46,
   "id": "490a2ee6",
   "metadata": {},
   "outputs": [
    {
     "name": "stdout",
     "output_type": "stream",
     "text": [
      "<class 'pandas.core.frame.DataFrame'>\n",
      "RangeIndex: 8341 entries, 0 to 8340\n",
      "Data columns (total 1 columns):\n",
      " #   Column      Non-Null Count  Dtype\n",
      "---  ------      --------------  -----\n",
      " 0   student_id  8341 non-null   int64\n",
      "dtypes: int64(1)\n",
      "memory usage: 65.3 KB\n"
     ]
    }
   ],
   "source": [
    "active_studs.info()"
   ]
  },
  {
   "cell_type": "code",
   "execution_count": 47,
   "id": "dad943bf",
   "metadata": {},
   "outputs": [
    {
     "name": "stdout",
     "output_type": "stream",
     "text": [
      "<class 'pandas.core.frame.DataFrame'>\n",
      "RangeIndex: 92 entries, 0 to 91\n",
      "Data columns (total 2 columns):\n",
      " #   Column  Non-Null Count  Dtype \n",
      "---  ------  --------------  ----- \n",
      " 0   id      92 non-null     int64 \n",
      " 1   grp     92 non-null     object\n",
      "dtypes: int64(1), object(1)\n",
      "memory usage: 1.6+ KB\n"
     ]
    }
   ],
   "source": [
    "group_add.info()"
   ]
  },
  {
   "cell_type": "code",
   "execution_count": 48,
   "id": "db9d8ad3",
   "metadata": {},
   "outputs": [
    {
     "name": "stdout",
     "output_type": "stream",
     "text": [
      "<class 'pandas.core.frame.DataFrame'>\n",
      "RangeIndex: 74484 entries, 0 to 74483\n",
      "Data columns (total 2 columns):\n",
      " #   Column  Non-Null Count  Dtype \n",
      "---  ------  --------------  ----- \n",
      " 0   id      74484 non-null  int64 \n",
      " 1   grp     74484 non-null  object\n",
      "dtypes: int64(1), object(1)\n",
      "memory usage: 1.1+ MB\n"
     ]
    }
   ],
   "source": [
    "groups.info()"
   ]
  },
  {
   "cell_type": "markdown",
   "id": "85aacac1",
   "metadata": {},
   "source": [
    "Чекнем наличие дубликатов в данных. "
   ]
  },
  {
   "cell_type": "code",
   "execution_count": 49,
   "id": "28eff886",
   "metadata": {},
   "outputs": [
    {
     "data": {
      "text/plain": [
       "0"
      ]
     },
     "execution_count": 49,
     "metadata": {},
     "output_type": "execute_result"
    }
   ],
   "source": [
    "checks.duplicated().sum()"
   ]
  },
  {
   "cell_type": "code",
   "execution_count": 50,
   "id": "6e0fa858",
   "metadata": {},
   "outputs": [
    {
     "data": {
      "text/plain": [
       "0"
      ]
     },
     "execution_count": 50,
     "metadata": {},
     "output_type": "execute_result"
    }
   ],
   "source": [
    "active_studs.duplicated().sum()"
   ]
  },
  {
   "cell_type": "code",
   "execution_count": 52,
   "id": "68bb83dc",
   "metadata": {},
   "outputs": [
    {
     "data": {
      "text/plain": [
       "0"
      ]
     },
     "execution_count": 52,
     "metadata": {},
     "output_type": "execute_result"
    }
   ],
   "source": [
    "group_add.duplicated().sum()"
   ]
  },
  {
   "cell_type": "code",
   "execution_count": 53,
   "id": "3797c1fd",
   "metadata": {},
   "outputs": [
    {
     "data": {
      "text/plain": [
       "0"
      ]
     },
     "execution_count": 53,
     "metadata": {},
     "output_type": "execute_result"
    }
   ],
   "source": [
    "groups.duplicated().sum()"
   ]
  },
  {
   "cell_type": "markdown",
   "id": "892f11c2",
   "metadata": {},
   "source": [
    "Объединим группы в один df."
   ]
  },
  {
   "cell_type": "code",
   "execution_count": 55,
   "id": "6b8c7d5d",
   "metadata": {},
   "outputs": [],
   "source": [
    "groups_full = pd.concat([group_add, groups])"
   ]
  },
  {
   "cell_type": "code",
   "execution_count": 61,
   "id": "6a9c8454",
   "metadata": {},
   "outputs": [
    {
     "data": {
      "text/plain": [
       "True"
      ]
     },
     "execution_count": 61,
     "metadata": {},
     "output_type": "execute_result"
    }
   ],
   "source": [
    "groups_full.shape[0] == group_add.shape[0] + groups.shape[0]"
   ]
  },
  {
   "cell_type": "code",
   "execution_count": 62,
   "id": "9f109108",
   "metadata": {},
   "outputs": [
    {
     "data": {
      "text/plain": [
       "0"
      ]
     },
     "execution_count": 62,
     "metadata": {},
     "output_type": "execute_result"
    }
   ],
   "source": [
    "groups_full.duplicated().sum()"
   ]
  },
  {
   "cell_type": "code",
   "execution_count": 70,
   "id": "c3370f5a",
   "metadata": {},
   "outputs": [
    {
     "data": {
      "text/plain": [
       "B    59883\n",
       "A    14693\n",
       "Name: grp, dtype: int64"
      ]
     },
     "execution_count": 70,
     "metadata": {},
     "output_type": "execute_result"
    }
   ],
   "source": [
    "groups_full.grp.value_counts()"
   ]
  },
  {
   "cell_type": "code",
   "execution_count": 89,
   "id": "19b72c96",
   "metadata": {},
   "outputs": [
    {
     "data": {
      "text/plain": [
       "(74576, 2)"
      ]
     },
     "execution_count": 89,
     "metadata": {},
     "output_type": "execute_result"
    }
   ],
   "source": [
    "groups_full.shape"
   ]
  },
  {
   "cell_type": "code",
   "execution_count": 87,
   "id": "006c5622",
   "metadata": {},
   "outputs": [
    {
     "data": {
      "text/plain": [
       "74576"
      ]
     },
     "execution_count": 87,
     "metadata": {},
     "output_type": "execute_result"
    }
   ],
   "source": [
    "groups_full.id.nunique()"
   ]
  },
  {
   "cell_type": "code",
   "execution_count": 90,
   "id": "2b04c95f",
   "metadata": {},
   "outputs": [
    {
     "data": {
      "text/plain": [
       "student_id    8341\n",
       "dtype: int64"
      ]
     },
     "execution_count": 90,
     "metadata": {},
     "output_type": "execute_result"
    }
   ],
   "source": [
    "active_studs.nunique()"
   ]
  },
  {
   "cell_type": "markdown",
   "id": "eb149b61",
   "metadata": {},
   "source": [
    "Соединим groups_full и active_studs, чтобы посмотреть, сколько было активных пользователей в обеих группах в дни эксперимента. "
   ]
  },
  {
   "cell_type": "code",
   "execution_count": 84,
   "id": "113a6579",
   "metadata": {},
   "outputs": [],
   "source": [
    "active_users = active_studs.merge(groups_full, how = 'left', left_on = 'student_id', right_on = 'id')"
   ]
  },
  {
   "cell_type": "code",
   "execution_count": 92,
   "id": "ea57f826",
   "metadata": {},
   "outputs": [],
   "source": [
    "groups_full['active_user'] = groups_full['id'].isin(active_studs.student_id).astype(int)"
   ]
  },
  {
   "cell_type": "code",
   "execution_count": 104,
   "id": "f378a1df",
   "metadata": {},
   "outputs": [],
   "source": [
    "groups_full['paying_user'] = groups_full['id'].isin(checks.student_id).astype(int)"
   ]
  },
  {
   "cell_type": "code",
   "execution_count": 106,
   "id": "6986b1d0",
   "metadata": {},
   "outputs": [
    {
     "data": {
      "text/html": [
       "<div>\n",
       "<style scoped>\n",
       "    .dataframe tbody tr th:only-of-type {\n",
       "        vertical-align: middle;\n",
       "    }\n",
       "\n",
       "    .dataframe tbody tr th {\n",
       "        vertical-align: top;\n",
       "    }\n",
       "\n",
       "    .dataframe thead th {\n",
       "        text-align: right;\n",
       "    }\n",
       "</style>\n",
       "<table border=\"1\" class=\"dataframe\">\n",
       "  <thead>\n",
       "    <tr style=\"text-align: right;\">\n",
       "      <th></th>\n",
       "      <th>id</th>\n",
       "      <th>grp</th>\n",
       "      <th>active_user</th>\n",
       "      <th>paying_user</th>\n",
       "    </tr>\n",
       "  </thead>\n",
       "  <tbody>\n",
       "    <tr>\n",
       "      <th>0</th>\n",
       "      <td>5694584</td>\n",
       "      <td>B</td>\n",
       "      <td>0</td>\n",
       "      <td>0</td>\n",
       "    </tr>\n",
       "    <tr>\n",
       "      <th>1</th>\n",
       "      <td>5694830</td>\n",
       "      <td>B</td>\n",
       "      <td>0</td>\n",
       "      <td>0</td>\n",
       "    </tr>\n",
       "    <tr>\n",
       "      <th>2</th>\n",
       "      <td>5695057</td>\n",
       "      <td>B</td>\n",
       "      <td>0</td>\n",
       "      <td>0</td>\n",
       "    </tr>\n",
       "    <tr>\n",
       "      <th>3</th>\n",
       "      <td>5698872</td>\n",
       "      <td>B</td>\n",
       "      <td>0</td>\n",
       "      <td>0</td>\n",
       "    </tr>\n",
       "    <tr>\n",
       "      <th>4</th>\n",
       "      <td>5699067</td>\n",
       "      <td>B</td>\n",
       "      <td>0</td>\n",
       "      <td>0</td>\n",
       "    </tr>\n",
       "  </tbody>\n",
       "</table>\n",
       "</div>"
      ],
      "text/plain": [
       "        id grp  active_user  paying_user\n",
       "0  5694584   B            0            0\n",
       "1  5694830   B            0            0\n",
       "2  5695057   B            0            0\n",
       "3  5698872   B            0            0\n",
       "4  5699067   B            0            0"
      ]
     },
     "execution_count": 106,
     "metadata": {},
     "output_type": "execute_result"
    }
   ],
   "source": [
    "groups_full.head()"
   ]
  },
  {
   "cell_type": "markdown",
   "id": "61075cb9",
   "metadata": {},
   "source": [
    "Теперь соединим с таблицей checks"
   ]
  },
  {
   "cell_type": "code",
   "execution_count": 105,
   "id": "40b7b577",
   "metadata": {},
   "outputs": [
    {
     "data": {
      "text/plain": [
       "(74576, 4)"
      ]
     },
     "execution_count": 105,
     "metadata": {},
     "output_type": "execute_result"
    }
   ],
   "source": [
    "groups_full.shape"
   ]
  },
  {
   "cell_type": "code",
   "execution_count": 107,
   "id": "61db97af",
   "metadata": {},
   "outputs": [],
   "source": [
    "full_df = groups_full.merge(checks, how='left', right_on='student_id', left_on = 'id').fillna(0)"
   ]
  },
  {
   "cell_type": "code",
   "execution_count": 108,
   "id": "1fde11d3",
   "metadata": {},
   "outputs": [
    {
     "data": {
      "text/html": [
       "<div>\n",
       "<style scoped>\n",
       "    .dataframe tbody tr th:only-of-type {\n",
       "        vertical-align: middle;\n",
       "    }\n",
       "\n",
       "    .dataframe tbody tr th {\n",
       "        vertical-align: top;\n",
       "    }\n",
       "\n",
       "    .dataframe thead th {\n",
       "        text-align: right;\n",
       "    }\n",
       "</style>\n",
       "<table border=\"1\" class=\"dataframe\">\n",
       "  <thead>\n",
       "    <tr style=\"text-align: right;\">\n",
       "      <th></th>\n",
       "      <th>id</th>\n",
       "      <th>grp</th>\n",
       "      <th>active_user</th>\n",
       "      <th>paying_user</th>\n",
       "      <th>student_id</th>\n",
       "      <th>rev</th>\n",
       "    </tr>\n",
       "  </thead>\n",
       "  <tbody>\n",
       "    <tr>\n",
       "      <th>0</th>\n",
       "      <td>5694584</td>\n",
       "      <td>B</td>\n",
       "      <td>0</td>\n",
       "      <td>0</td>\n",
       "      <td>0.0</td>\n",
       "      <td>0.0</td>\n",
       "    </tr>\n",
       "    <tr>\n",
       "      <th>1</th>\n",
       "      <td>5694830</td>\n",
       "      <td>B</td>\n",
       "      <td>0</td>\n",
       "      <td>0</td>\n",
       "      <td>0.0</td>\n",
       "      <td>0.0</td>\n",
       "    </tr>\n",
       "    <tr>\n",
       "      <th>2</th>\n",
       "      <td>5695057</td>\n",
       "      <td>B</td>\n",
       "      <td>0</td>\n",
       "      <td>0</td>\n",
       "      <td>0.0</td>\n",
       "      <td>0.0</td>\n",
       "    </tr>\n",
       "    <tr>\n",
       "      <th>3</th>\n",
       "      <td>5698872</td>\n",
       "      <td>B</td>\n",
       "      <td>0</td>\n",
       "      <td>0</td>\n",
       "      <td>0.0</td>\n",
       "      <td>0.0</td>\n",
       "    </tr>\n",
       "    <tr>\n",
       "      <th>4</th>\n",
       "      <td>5699067</td>\n",
       "      <td>B</td>\n",
       "      <td>0</td>\n",
       "      <td>0</td>\n",
       "      <td>0.0</td>\n",
       "      <td>0.0</td>\n",
       "    </tr>\n",
       "  </tbody>\n",
       "</table>\n",
       "</div>"
      ],
      "text/plain": [
       "        id grp  active_user  paying_user  student_id  rev\n",
       "0  5694584   B            0            0         0.0  0.0\n",
       "1  5694830   B            0            0         0.0  0.0\n",
       "2  5695057   B            0            0         0.0  0.0\n",
       "3  5698872   B            0            0         0.0  0.0\n",
       "4  5699067   B            0            0         0.0  0.0"
      ]
     },
     "execution_count": 108,
     "metadata": {},
     "output_type": "execute_result"
    }
   ],
   "source": [
    "full_df.head()"
   ]
  },
  {
   "cell_type": "code",
   "execution_count": 117,
   "id": "9c956283",
   "metadata": {},
   "outputs": [],
   "source": [
    "full_df = full_df[['id', 'grp', 'active_user', 'paying_user', 'rev']]"
   ]
  },
  {
   "cell_type": "code",
   "execution_count": 118,
   "id": "16a4e5db",
   "metadata": {},
   "outputs": [
    {
     "data": {
      "text/html": [
       "<div>\n",
       "<style scoped>\n",
       "    .dataframe tbody tr th:only-of-type {\n",
       "        vertical-align: middle;\n",
       "    }\n",
       "\n",
       "    .dataframe tbody tr th {\n",
       "        vertical-align: top;\n",
       "    }\n",
       "\n",
       "    .dataframe thead th {\n",
       "        text-align: right;\n",
       "    }\n",
       "</style>\n",
       "<table border=\"1\" class=\"dataframe\">\n",
       "  <thead>\n",
       "    <tr style=\"text-align: right;\">\n",
       "      <th></th>\n",
       "      <th>id</th>\n",
       "      <th>active_user</th>\n",
       "      <th>paying_user</th>\n",
       "      <th>rev</th>\n",
       "    </tr>\n",
       "  </thead>\n",
       "  <tbody>\n",
       "    <tr>\n",
       "      <th>count</th>\n",
       "      <td>7.457600e+04</td>\n",
       "      <td>74576.000000</td>\n",
       "      <td>74576.000000</td>\n",
       "      <td>74576.000000</td>\n",
       "    </tr>\n",
       "    <tr>\n",
       "      <th>mean</th>\n",
       "      <td>2.165617e+06</td>\n",
       "      <td>0.111846</td>\n",
       "      <td>0.007254</td>\n",
       "      <td>7.687808</td>\n",
       "    </tr>\n",
       "    <tr>\n",
       "      <th>std</th>\n",
       "      <td>2.786959e+06</td>\n",
       "      <td>0.315179</td>\n",
       "      <td>0.084864</td>\n",
       "      <td>110.907645</td>\n",
       "    </tr>\n",
       "    <tr>\n",
       "      <th>min</th>\n",
       "      <td>1.489000e+03</td>\n",
       "      <td>0.000000</td>\n",
       "      <td>0.000000</td>\n",
       "      <td>0.000000</td>\n",
       "    </tr>\n",
       "    <tr>\n",
       "      <th>25%</th>\n",
       "      <td>9.197188e+05</td>\n",
       "      <td>0.000000</td>\n",
       "      <td>0.000000</td>\n",
       "      <td>0.000000</td>\n",
       "    </tr>\n",
       "    <tr>\n",
       "      <th>50%</th>\n",
       "      <td>1.669752e+06</td>\n",
       "      <td>0.000000</td>\n",
       "      <td>0.000000</td>\n",
       "      <td>0.000000</td>\n",
       "    </tr>\n",
       "    <tr>\n",
       "      <th>75%</th>\n",
       "      <td>3.328121e+06</td>\n",
       "      <td>0.000000</td>\n",
       "      <td>0.000000</td>\n",
       "      <td>0.000000</td>\n",
       "    </tr>\n",
       "    <tr>\n",
       "      <th>max</th>\n",
       "      <td>2.010677e+08</td>\n",
       "      <td>1.000000</td>\n",
       "      <td>1.000000</td>\n",
       "      <td>4650.000000</td>\n",
       "    </tr>\n",
       "  </tbody>\n",
       "</table>\n",
       "</div>"
      ],
      "text/plain": [
       "                 id   active_user   paying_user           rev\n",
       "count  7.457600e+04  74576.000000  74576.000000  74576.000000\n",
       "mean   2.165617e+06      0.111846      0.007254      7.687808\n",
       "std    2.786959e+06      0.315179      0.084864    110.907645\n",
       "min    1.489000e+03      0.000000      0.000000      0.000000\n",
       "25%    9.197188e+05      0.000000      0.000000      0.000000\n",
       "50%    1.669752e+06      0.000000      0.000000      0.000000\n",
       "75%    3.328121e+06      0.000000      0.000000      0.000000\n",
       "max    2.010677e+08      1.000000      1.000000   4650.000000"
      ]
     },
     "execution_count": 118,
     "metadata": {},
     "output_type": "execute_result"
    }
   ],
   "source": [
    "full_df.describe()"
   ]
  },
  {
   "cell_type": "code",
   "execution_count": 115,
   "id": "df80bc3c",
   "metadata": {},
   "outputs": [],
   "source": [
    "pay_df = full_df.loc[full_df.rev > 0]"
   ]
  },
  {
   "cell_type": "markdown",
   "id": "2b29f26d",
   "metadata": {},
   "source": [
    "Замечаем странность (аномалию) в данных: есть юзеры, которые что-то купили, но они не были помечены как активные. "
   ]
  },
  {
   "cell_type": "code",
   "execution_count": 116,
   "id": "20222dda",
   "metadata": {},
   "outputs": [
    {
     "data": {
      "text/html": [
       "<div>\n",
       "<style scoped>\n",
       "    .dataframe tbody tr th:only-of-type {\n",
       "        vertical-align: middle;\n",
       "    }\n",
       "\n",
       "    .dataframe tbody tr th {\n",
       "        vertical-align: top;\n",
       "    }\n",
       "\n",
       "    .dataframe thead th {\n",
       "        text-align: right;\n",
       "    }\n",
       "</style>\n",
       "<table border=\"1\" class=\"dataframe\">\n",
       "  <thead>\n",
       "    <tr style=\"text-align: right;\">\n",
       "      <th></th>\n",
       "      <th>id</th>\n",
       "      <th>grp</th>\n",
       "      <th>active_user</th>\n",
       "      <th>paying_user</th>\n",
       "      <th>rev</th>\n",
       "    </tr>\n",
       "  </thead>\n",
       "  <tbody>\n",
       "    <tr>\n",
       "      <th>131</th>\n",
       "      <td>3185</td>\n",
       "      <td>B</td>\n",
       "      <td>0</td>\n",
       "      <td>1</td>\n",
       "      <td>690.0</td>\n",
       "    </tr>\n",
       "    <tr>\n",
       "      <th>213</th>\n",
       "      <td>25973</td>\n",
       "      <td>B</td>\n",
       "      <td>0</td>\n",
       "      <td>1</td>\n",
       "      <td>690.0</td>\n",
       "    </tr>\n",
       "    <tr>\n",
       "      <th>217</th>\n",
       "      <td>26280</td>\n",
       "      <td>B</td>\n",
       "      <td>0</td>\n",
       "      <td>1</td>\n",
       "      <td>690.0</td>\n",
       "    </tr>\n",
       "    <tr>\n",
       "      <th>315</th>\n",
       "      <td>100645</td>\n",
       "      <td>B</td>\n",
       "      <td>0</td>\n",
       "      <td>1</td>\n",
       "      <td>630.0</td>\n",
       "    </tr>\n",
       "    <tr>\n",
       "      <th>346</th>\n",
       "      <td>102534</td>\n",
       "      <td>B</td>\n",
       "      <td>0</td>\n",
       "      <td>1</td>\n",
       "      <td>580.0</td>\n",
       "    </tr>\n",
       "    <tr>\n",
       "      <th>...</th>\n",
       "      <td>...</td>\n",
       "      <td>...</td>\n",
       "      <td>...</td>\n",
       "      <td>...</td>\n",
       "      <td>...</td>\n",
       "    </tr>\n",
       "    <tr>\n",
       "      <th>72544</th>\n",
       "      <td>5291900</td>\n",
       "      <td>B</td>\n",
       "      <td>0</td>\n",
       "      <td>1</td>\n",
       "      <td>199.0</td>\n",
       "    </tr>\n",
       "    <tr>\n",
       "      <th>72845</th>\n",
       "      <td>5331842</td>\n",
       "      <td>B</td>\n",
       "      <td>0</td>\n",
       "      <td>1</td>\n",
       "      <td>290.0</td>\n",
       "    </tr>\n",
       "    <tr>\n",
       "      <th>73724</th>\n",
       "      <td>5486319</td>\n",
       "      <td>B</td>\n",
       "      <td>0</td>\n",
       "      <td>1</td>\n",
       "      <td>199.0</td>\n",
       "    </tr>\n",
       "    <tr>\n",
       "      <th>74141</th>\n",
       "      <td>5562806</td>\n",
       "      <td>B</td>\n",
       "      <td>0</td>\n",
       "      <td>1</td>\n",
       "      <td>398.0</td>\n",
       "    </tr>\n",
       "    <tr>\n",
       "      <th>74308</th>\n",
       "      <td>5599663</td>\n",
       "      <td>B</td>\n",
       "      <td>0</td>\n",
       "      <td>1</td>\n",
       "      <td>1900.0</td>\n",
       "    </tr>\n",
       "  </tbody>\n",
       "</table>\n",
       "<p>149 rows × 5 columns</p>\n",
       "</div>"
      ],
      "text/plain": [
       "            id grp  active_user  paying_user     rev\n",
       "131       3185   B            0            1   690.0\n",
       "213      25973   B            0            1   690.0\n",
       "217      26280   B            0            1   690.0\n",
       "315     100645   B            0            1   630.0\n",
       "346     102534   B            0            1   580.0\n",
       "...        ...  ..          ...          ...     ...\n",
       "72544  5291900   B            0            1   199.0\n",
       "72845  5331842   B            0            1   290.0\n",
       "73724  5486319   B            0            1   199.0\n",
       "74141  5562806   B            0            1   398.0\n",
       "74308  5599663   B            0            1  1900.0\n",
       "\n",
       "[149 rows x 5 columns]"
      ]
     },
     "execution_count": 116,
     "metadata": {},
     "output_type": "execute_result"
    }
   ],
   "source": [
    "pay_df.loc[(pay_df.active_user == 0) & (pay_df.paying_user == 1)]"
   ]
  },
  {
   "cell_type": "markdown",
   "id": "2d71f291",
   "metadata": {},
   "source": [
    "Таких кейсов 149, в условии не обозначено, что это за случаи (предположу, что это подписка и деньги списались автоматически, без активности пользователя), однако подтверждения у нас нет, получить его не можем, поэтому я бы предложила **удалить** такие данные (ввиду их малочисленности) для дальнейших проверок гипотез. "
   ]
  },
  {
   "cell_type": "code",
   "execution_count": 127,
   "id": "8d46b152",
   "metadata": {},
   "outputs": [],
   "source": [
    "pay_df = full_df.loc[(full_df.rev > 0) & (full_df.active_user == 1) & (full_df.paying_user == 1)]"
   ]
  },
  {
   "cell_type": "code",
   "execution_count": 194,
   "id": "f4064d26",
   "metadata": {},
   "outputs": [
    {
     "data": {
      "text/html": [
       "<div>\n",
       "<style scoped>\n",
       "    .dataframe tbody tr th:only-of-type {\n",
       "        vertical-align: middle;\n",
       "    }\n",
       "\n",
       "    .dataframe tbody tr th {\n",
       "        vertical-align: top;\n",
       "    }\n",
       "\n",
       "    .dataframe thead th {\n",
       "        text-align: right;\n",
       "    }\n",
       "</style>\n",
       "<table border=\"1\" class=\"dataframe\">\n",
       "  <thead>\n",
       "    <tr style=\"text-align: right;\">\n",
       "      <th></th>\n",
       "      <th>id</th>\n",
       "      <th>grp</th>\n",
       "      <th>active_user</th>\n",
       "      <th>paying_user</th>\n",
       "      <th>rev</th>\n",
       "    </tr>\n",
       "  </thead>\n",
       "  <tbody>\n",
       "    <tr>\n",
       "      <th>55</th>\n",
       "      <td>5740903</td>\n",
       "      <td>B</td>\n",
       "      <td>1</td>\n",
       "      <td>1</td>\n",
       "      <td>1900.0000</td>\n",
       "    </tr>\n",
       "    <tr>\n",
       "      <th>93</th>\n",
       "      <td>1627</td>\n",
       "      <td>A</td>\n",
       "      <td>1</td>\n",
       "      <td>1</td>\n",
       "      <td>990.0000</td>\n",
       "    </tr>\n",
       "    <tr>\n",
       "      <th>312</th>\n",
       "      <td>100300</td>\n",
       "      <td>B</td>\n",
       "      <td>1</td>\n",
       "      <td>1</td>\n",
       "      <td>990.0000</td>\n",
       "    </tr>\n",
       "    <tr>\n",
       "      <th>412</th>\n",
       "      <td>108270</td>\n",
       "      <td>B</td>\n",
       "      <td>1</td>\n",
       "      <td>1</td>\n",
       "      <td>290.0000</td>\n",
       "    </tr>\n",
       "    <tr>\n",
       "      <th>3871</th>\n",
       "      <td>264473</td>\n",
       "      <td>B</td>\n",
       "      <td>1</td>\n",
       "      <td>1</td>\n",
       "      <td>1900.0001</td>\n",
       "    </tr>\n",
       "  </tbody>\n",
       "</table>\n",
       "</div>"
      ],
      "text/plain": [
       "           id grp  active_user  paying_user        rev\n",
       "55    5740903   B            1            1  1900.0000\n",
       "93       1627   A            1            1   990.0000\n",
       "312    100300   B            1            1   990.0000\n",
       "412    108270   B            1            1   290.0000\n",
       "3871   264473   B            1            1  1900.0001"
      ]
     },
     "execution_count": 194,
     "metadata": {},
     "output_type": "execute_result"
    }
   ],
   "source": [
    "pay_df.head()"
   ]
  },
  {
   "cell_type": "code",
   "execution_count": 128,
   "id": "79b75f24",
   "metadata": {},
   "outputs": [
    {
     "data": {
      "text/html": [
       "<div>\n",
       "<style scoped>\n",
       "    .dataframe tbody tr th:only-of-type {\n",
       "        vertical-align: middle;\n",
       "    }\n",
       "\n",
       "    .dataframe tbody tr th {\n",
       "        vertical-align: top;\n",
       "    }\n",
       "\n",
       "    .dataframe thead th {\n",
       "        text-align: right;\n",
       "    }\n",
       "</style>\n",
       "<table border=\"1\" class=\"dataframe\">\n",
       "  <thead>\n",
       "    <tr style=\"text-align: right;\">\n",
       "      <th></th>\n",
       "      <th>count</th>\n",
       "      <th>mean</th>\n",
       "      <th>std</th>\n",
       "      <th>min</th>\n",
       "      <th>25%</th>\n",
       "      <th>50%</th>\n",
       "      <th>75%</th>\n",
       "      <th>max</th>\n",
       "    </tr>\n",
       "    <tr>\n",
       "      <th>grp</th>\n",
       "      <th></th>\n",
       "      <th></th>\n",
       "      <th></th>\n",
       "      <th></th>\n",
       "      <th></th>\n",
       "      <th></th>\n",
       "      <th></th>\n",
       "      <th></th>\n",
       "    </tr>\n",
       "  </thead>\n",
       "  <tbody>\n",
       "    <tr>\n",
       "      <th>A</th>\n",
       "      <td>78.0</td>\n",
       "      <td>933.589744</td>\n",
       "      <td>919.932711</td>\n",
       "      <td>199.0</td>\n",
       "      <td>290.00</td>\n",
       "      <td>585.0</td>\n",
       "      <td>1114.75</td>\n",
       "      <td>3660.0</td>\n",
       "    </tr>\n",
       "    <tr>\n",
       "      <th>B</th>\n",
       "      <td>314.0</td>\n",
       "      <td>1257.878992</td>\n",
       "      <td>790.864254</td>\n",
       "      <td>199.0</td>\n",
       "      <td>511.75</td>\n",
       "      <td>1140.0</td>\n",
       "      <td>1900.00</td>\n",
       "      <td>4650.0</td>\n",
       "    </tr>\n",
       "  </tbody>\n",
       "</table>\n",
       "</div>"
      ],
      "text/plain": [
       "     count         mean         std    min     25%     50%      75%     max\n",
       "grp                                                                        \n",
       "A     78.0   933.589744  919.932711  199.0  290.00   585.0  1114.75  3660.0\n",
       "B    314.0  1257.878992  790.864254  199.0  511.75  1140.0  1900.00  4650.0"
      ]
     },
     "execution_count": 128,
     "metadata": {},
     "output_type": "execute_result"
    }
   ],
   "source": [
    "pay_df.groupby('grp').rev.describe()"
   ]
  },
  {
   "cell_type": "markdown",
   "id": "5daf197b",
   "metadata": {},
   "source": [
    "Нагляднее смотреть на такие данные на бокс-плоте. "
   ]
  },
  {
   "cell_type": "code",
   "execution_count": 129,
   "id": "d5f3f19a",
   "metadata": {},
   "outputs": [
    {
     "data": {
      "text/plain": [
       "<Axes: xlabel='grp', ylabel='rev'>"
      ]
     },
     "execution_count": 129,
     "metadata": {},
     "output_type": "execute_result"
    },
    {
     "data": {
      "image/png": "[encoded data removed]",
      "text/plain": [
       "<Figure size 640x480 with 1 Axes>"
      ]
     },
     "metadata": {},
     "output_type": "display_data"
    }
   ],
   "source": [
    "sns.boxplot(data=pay_df, y='rev', x='grp')"
   ]
  },
  {
   "cell_type": "markdown",
   "id": "926916b4",
   "metadata": {},
   "source": [
    "Медиана выше в группе В, межкваритильный размах больше в В и усы тоже."
   ]
  },
  {
   "cell_type": "code",
   "execution_count": 130,
   "id": "022b3bbc",
   "metadata": {},
   "outputs": [
    {
     "data": {
      "text/plain": [
       "<seaborn.axisgrid.FacetGrid at 0x16843a210>"
      ]
     },
     "execution_count": 130,
     "metadata": {},
     "output_type": "execute_result"
    },
    {
     "data": {
      "image/png": "[encoded data removed]",
      "text/plain": [
       "<Figure size 559.625x500 with 1 Axes>"
      ]
     },
     "metadata": {},
     "output_type": "display_data"
    }
   ],
   "source": [
    "sns.displot(data=pay_df, x='rev', hue='grp', multiple=\"stack\")"
   ]
  },
  {
   "cell_type": "markdown",
   "id": "5456fe6c",
   "metadata": {},
   "source": [
    "В группе А оплат было значительно меньше. "
   ]
  },
  {
   "cell_type": "code",
   "execution_count": 131,
   "id": "a80e9f2c",
   "metadata": {},
   "outputs": [
    {
     "data": {
      "text/plain": [
       "<Axes: xlabel='grp', ylabel='rev'>"
      ]
     },
     "execution_count": 131,
     "metadata": {},
     "output_type": "execute_result"
    },
    {
     "data": {
      "image/png": "[encoded data removed]",
      "text/plain": [
       "<Figure size 640x480 with 1 Axes>"
      ]
     },
     "metadata": {},
     "output_type": "display_data"
    }
   ],
   "source": [
    "sns.violinplot(data=pay_df, y='rev', x='grp')"
   ]
  },
  {
   "cell_type": "markdown",
   "id": "a128b525",
   "metadata": {},
   "source": [
    "<a name=\"metrics\"></a> \n",
    "## Метрики ##"
   ]
  },
  {
   "cell_type": "markdown",
   "id": "5a6b9a07",
   "metadata": {},
   "source": [
    "Для бизнеса всегда будут наиболее важные показатели - метрики, связанные с деньгами, у нас как раз есть данные по доходу на каждого пользователя, поэтому отталкиваемся от этого. "
   ]
  },
  {
   "cell_type": "markdown",
   "id": "12f267a2",
   "metadata": {},
   "source": [
    "1. **ARPPU** - средний доход на платящего пользователя (и активного)\n",
    "2. **ARPAU** - средний доход на активного пользователя (платящего и неплатящего) \n",
    "3. **CR** - конверсия в покупку - доля пользователей, ктр совершили покупку к общему числу посетителей сайта (активных)"
   ]
  },
  {
   "cell_type": "markdown",
   "id": "af1ed95c",
   "metadata": {},
   "source": [
    "### Начнем с **конверсии**, для начала рассчитаем этот показатель для обеих групп. ###"
   ]
  },
  {
   "cell_type": "code",
   "execution_count": 141,
   "id": "d5e5c211",
   "metadata": {},
   "outputs": [
    {
     "data": {
      "text/html": [
       "<div>\n",
       "<style scoped>\n",
       "    .dataframe tbody tr th:only-of-type {\n",
       "        vertical-align: middle;\n",
       "    }\n",
       "\n",
       "    .dataframe tbody tr th {\n",
       "        vertical-align: top;\n",
       "    }\n",
       "\n",
       "    .dataframe thead th {\n",
       "        text-align: right;\n",
       "    }\n",
       "</style>\n",
       "<table border=\"1\" class=\"dataframe\">\n",
       "  <thead>\n",
       "    <tr style=\"text-align: right;\">\n",
       "      <th></th>\n",
       "      <th>id</th>\n",
       "      <th>grp</th>\n",
       "      <th>active_user</th>\n",
       "      <th>paying_user</th>\n",
       "      <th>rev</th>\n",
       "    </tr>\n",
       "  </thead>\n",
       "  <tbody>\n",
       "    <tr>\n",
       "      <th>0</th>\n",
       "      <td>5694584</td>\n",
       "      <td>B</td>\n",
       "      <td>0</td>\n",
       "      <td>0</td>\n",
       "      <td>0.0</td>\n",
       "    </tr>\n",
       "    <tr>\n",
       "      <th>1</th>\n",
       "      <td>5694830</td>\n",
       "      <td>B</td>\n",
       "      <td>0</td>\n",
       "      <td>0</td>\n",
       "      <td>0.0</td>\n",
       "    </tr>\n",
       "    <tr>\n",
       "      <th>2</th>\n",
       "      <td>5695057</td>\n",
       "      <td>B</td>\n",
       "      <td>0</td>\n",
       "      <td>0</td>\n",
       "      <td>0.0</td>\n",
       "    </tr>\n",
       "    <tr>\n",
       "      <th>3</th>\n",
       "      <td>5698872</td>\n",
       "      <td>B</td>\n",
       "      <td>0</td>\n",
       "      <td>0</td>\n",
       "      <td>0.0</td>\n",
       "    </tr>\n",
       "    <tr>\n",
       "      <th>4</th>\n",
       "      <td>5699067</td>\n",
       "      <td>B</td>\n",
       "      <td>0</td>\n",
       "      <td>0</td>\n",
       "      <td>0.0</td>\n",
       "    </tr>\n",
       "  </tbody>\n",
       "</table>\n",
       "</div>"
      ],
      "text/plain": [
       "        id grp  active_user  paying_user  rev\n",
       "0  5694584   B            0            0  0.0\n",
       "1  5694830   B            0            0  0.0\n",
       "2  5695057   B            0            0  0.0\n",
       "3  5698872   B            0            0  0.0\n",
       "4  5699067   B            0            0  0.0"
      ]
     },
     "execution_count": 141,
     "metadata": {},
     "output_type": "execute_result"
    }
   ],
   "source": [
    "full_df.head()"
   ]
  },
  {
   "cell_type": "code",
   "execution_count": 148,
   "id": "a494818e",
   "metadata": {},
   "outputs": [],
   "source": [
    "full_count = full_df.loc[full_df.active_user == 1].groupby('grp', as_index=False).agg({'active_user':'count', 'paying_user':'sum', 'rev':'sum'})"
   ]
  },
  {
   "cell_type": "code",
   "execution_count": 150,
   "id": "7b1e2e9f",
   "metadata": {},
   "outputs": [
    {
     "data": {
      "text/html": [
       "<div>\n",
       "<style scoped>\n",
       "    .dataframe tbody tr th:only-of-type {\n",
       "        vertical-align: middle;\n",
       "    }\n",
       "\n",
       "    .dataframe tbody tr th {\n",
       "        vertical-align: top;\n",
       "    }\n",
       "\n",
       "    .dataframe thead th {\n",
       "        text-align: right;\n",
       "    }\n",
       "</style>\n",
       "<table border=\"1\" class=\"dataframe\">\n",
       "  <thead>\n",
       "    <tr style=\"text-align: right;\">\n",
       "      <th></th>\n",
       "      <th>grp</th>\n",
       "      <th>active_user</th>\n",
       "      <th>paying_user</th>\n",
       "      <th>rev</th>\n",
       "    </tr>\n",
       "  </thead>\n",
       "  <tbody>\n",
       "    <tr>\n",
       "      <th>0</th>\n",
       "      <td>A</td>\n",
       "      <td>1538</td>\n",
       "      <td>78</td>\n",
       "      <td>72820.0000</td>\n",
       "    </tr>\n",
       "    <tr>\n",
       "      <th>1</th>\n",
       "      <td>B</td>\n",
       "      <td>6803</td>\n",
       "      <td>314</td>\n",
       "      <td>394974.0035</td>\n",
       "    </tr>\n",
       "  </tbody>\n",
       "</table>\n",
       "</div>"
      ],
      "text/plain": [
       "  grp  active_user  paying_user          rev\n",
       "0   A         1538           78   72820.0000\n",
       "1   B         6803          314  394974.0035"
      ]
     },
     "execution_count": 150,
     "metadata": {},
     "output_type": "execute_result"
    }
   ],
   "source": [
    "full_count"
   ]
  },
  {
   "cell_type": "code",
   "execution_count": 155,
   "id": "46ac0d76",
   "metadata": {},
   "outputs": [],
   "source": [
    "full_count['CR'] = round(full_count.paying_user/full_count.active_user*100,2)"
   ]
  },
  {
   "cell_type": "markdown",
   "id": "044f1aa9",
   "metadata": {},
   "source": [
    "$H_0$: различий конверсий между группами нет <br/>\n",
    "$H_1$: различия конверсий между группами статистически значимы"
   ]
  },
  {
   "cell_type": "markdown",
   "id": "d29dbb3e",
   "metadata": {},
   "source": [
    "Конверсия - категориальная переменная (совершил целевое действие или нет), поэтому буду применять критерий Хи-квадрат. "
   ]
  },
  {
   "cell_type": "code",
   "execution_count": 157,
   "id": "e668b6a5",
   "metadata": {},
   "outputs": [],
   "source": [
    "active_df = full_df.loc[full_df.active_user == 1]"
   ]
  },
  {
   "cell_type": "code",
   "execution_count": 158,
   "id": "b8efe20b",
   "metadata": {},
   "outputs": [
    {
     "data": {
      "text/html": [
       "<div>\n",
       "<style scoped>\n",
       "    .dataframe tbody tr th:only-of-type {\n",
       "        vertical-align: middle;\n",
       "    }\n",
       "\n",
       "    .dataframe tbody tr th {\n",
       "        vertical-align: top;\n",
       "    }\n",
       "\n",
       "    .dataframe thead th {\n",
       "        text-align: right;\n",
       "    }\n",
       "</style>\n",
       "<table border=\"1\" class=\"dataframe\">\n",
       "  <thead>\n",
       "    <tr style=\"text-align: right;\">\n",
       "      <th></th>\n",
       "      <th>id</th>\n",
       "      <th>grp</th>\n",
       "      <th>active_user</th>\n",
       "      <th>paying_user</th>\n",
       "      <th>rev</th>\n",
       "    </tr>\n",
       "  </thead>\n",
       "  <tbody>\n",
       "    <tr>\n",
       "      <th>7</th>\n",
       "      <td>5700613</td>\n",
       "      <td>B</td>\n",
       "      <td>1</td>\n",
       "      <td>0</td>\n",
       "      <td>0.0</td>\n",
       "    </tr>\n",
       "    <tr>\n",
       "      <th>39</th>\n",
       "      <td>5723133</td>\n",
       "      <td>A</td>\n",
       "      <td>1</td>\n",
       "      <td>0</td>\n",
       "      <td>0.0</td>\n",
       "    </tr>\n",
       "    <tr>\n",
       "      <th>40</th>\n",
       "      <td>5723648</td>\n",
       "      <td>B</td>\n",
       "      <td>1</td>\n",
       "      <td>0</td>\n",
       "      <td>0.0</td>\n",
       "    </tr>\n",
       "    <tr>\n",
       "      <th>43</th>\n",
       "      <td>5728431</td>\n",
       "      <td>B</td>\n",
       "      <td>1</td>\n",
       "      <td>0</td>\n",
       "      <td>0.0</td>\n",
       "    </tr>\n",
       "    <tr>\n",
       "      <th>44</th>\n",
       "      <td>5729371</td>\n",
       "      <td>A</td>\n",
       "      <td>1</td>\n",
       "      <td>0</td>\n",
       "      <td>0.0</td>\n",
       "    </tr>\n",
       "  </tbody>\n",
       "</table>\n",
       "</div>"
      ],
      "text/plain": [
       "         id grp  active_user  paying_user  rev\n",
       "7   5700613   B            1            0  0.0\n",
       "39  5723133   A            1            0  0.0\n",
       "40  5723648   B            1            0  0.0\n",
       "43  5728431   B            1            0  0.0\n",
       "44  5729371   A            1            0  0.0"
      ]
     },
     "execution_count": 158,
     "metadata": {},
     "output_type": "execute_result"
    }
   ],
   "source": [
    "active_df.head()"
   ]
  },
  {
   "cell_type": "code",
   "execution_count": 161,
   "id": "4cae85d8",
   "metadata": {},
   "outputs": [
    {
     "data": {
      "text/plain": [
       "Chi2ContingencyResult(statistic=0.48480826522557896, pvalue=0.48625240457231045, dof=1, expected_freq=array([[1465.71897854,   72.28102146],\n",
       "       [6483.28102146,  319.71897854]]))"
      ]
     },
     "execution_count": 161,
     "metadata": {},
     "output_type": "execute_result"
    }
   ],
   "source": [
    "chi2_contingency(pd.crosstab(active_df.grp, active_df.paying_user))"
   ]
  },
  {
   "cell_type": "markdown",
   "id": "7503ba9a",
   "metadata": {},
   "source": [
    "pvalue=0.48625240457231045 >> 0.05 <br/>\n",
    "\n",
    "**ВЫВОД:** <br/>\n",
    "\n",
    "**Стат. значимые различия** в конверсии мужду группами **отсутствуют**. "
   ]
  },
  {
   "cell_type": "markdown",
   "id": "d3aa22af",
   "metadata": {},
   "source": [
    "### 2. Проверяем гипотезы о равенстве средних доходов с активных пользователей ARPAU ###"
   ]
  },
  {
   "cell_type": "markdown",
   "id": "300b24d2",
   "metadata": {},
   "source": [
    "$H_0$: нет стат значимого различия в размере среднего дохода на активного пользователя <br/>\n",
    "$H_1$: стат значимые различия в ARPAU между группами есть "
   ]
  },
  {
   "cell_type": "markdown",
   "id": "7ccc4ec2",
   "metadata": {},
   "source": [
    "Сравнивая средние величины, необходимо проверить, можно ли использовать парам. критерий Стьюдента. \n",
    "Есть два условия его использования:\n",
    "1. дисперсии по группам равны (гомоскедастичность);\n",
    "2. нормальность распределения средних величин. "
   ]
  },
  {
   "cell_type": "code",
   "execution_count": 165,
   "id": "f0569855",
   "metadata": {},
   "outputs": [],
   "source": [
    "control_arpau = active_df.query('grp == \"A\"')[['grp', 'rev']]"
   ]
  },
  {
   "cell_type": "code",
   "execution_count": 167,
   "id": "fd0e3761",
   "metadata": {},
   "outputs": [
    {
     "data": {
      "text/html": [
       "<div>\n",
       "<style scoped>\n",
       "    .dataframe tbody tr th:only-of-type {\n",
       "        vertical-align: middle;\n",
       "    }\n",
       "\n",
       "    .dataframe tbody tr th {\n",
       "        vertical-align: top;\n",
       "    }\n",
       "\n",
       "    .dataframe thead th {\n",
       "        text-align: right;\n",
       "    }\n",
       "</style>\n",
       "<table border=\"1\" class=\"dataframe\">\n",
       "  <thead>\n",
       "    <tr style=\"text-align: right;\">\n",
       "      <th></th>\n",
       "      <th>grp</th>\n",
       "      <th>rev</th>\n",
       "    </tr>\n",
       "  </thead>\n",
       "  <tbody>\n",
       "    <tr>\n",
       "      <th>39</th>\n",
       "      <td>A</td>\n",
       "      <td>0.0</td>\n",
       "    </tr>\n",
       "    <tr>\n",
       "      <th>44</th>\n",
       "      <td>A</td>\n",
       "      <td>0.0</td>\n",
       "    </tr>\n",
       "    <tr>\n",
       "      <th>74</th>\n",
       "      <td>A</td>\n",
       "      <td>0.0</td>\n",
       "    </tr>\n",
       "    <tr>\n",
       "      <th>93</th>\n",
       "      <td>A</td>\n",
       "      <td>990.0</td>\n",
       "    </tr>\n",
       "    <tr>\n",
       "      <th>135</th>\n",
       "      <td>A</td>\n",
       "      <td>0.0</td>\n",
       "    </tr>\n",
       "  </tbody>\n",
       "</table>\n",
       "</div>"
      ],
      "text/plain": [
       "    grp    rev\n",
       "39    A    0.0\n",
       "44    A    0.0\n",
       "74    A    0.0\n",
       "93    A  990.0\n",
       "135   A    0.0"
      ]
     },
     "execution_count": 167,
     "metadata": {},
     "output_type": "execute_result"
    }
   ],
   "source": [
    "control_arpau.head()"
   ]
  },
  {
   "cell_type": "code",
   "execution_count": 168,
   "id": "fc95601d",
   "metadata": {},
   "outputs": [],
   "source": [
    "test_arpau = active_df.query('grp == \"B\"')[['grp', 'rev']]"
   ]
  },
  {
   "cell_type": "code",
   "execution_count": 169,
   "id": "798002e8",
   "metadata": {},
   "outputs": [
    {
     "data": {
      "text/html": [
       "<div>\n",
       "<style scoped>\n",
       "    .dataframe tbody tr th:only-of-type {\n",
       "        vertical-align: middle;\n",
       "    }\n",
       "\n",
       "    .dataframe tbody tr th {\n",
       "        vertical-align: top;\n",
       "    }\n",
       "\n",
       "    .dataframe thead th {\n",
       "        text-align: right;\n",
       "    }\n",
       "</style>\n",
       "<table border=\"1\" class=\"dataframe\">\n",
       "  <thead>\n",
       "    <tr style=\"text-align: right;\">\n",
       "      <th></th>\n",
       "      <th>grp</th>\n",
       "      <th>rev</th>\n",
       "    </tr>\n",
       "  </thead>\n",
       "  <tbody>\n",
       "    <tr>\n",
       "      <th>7</th>\n",
       "      <td>B</td>\n",
       "      <td>0.0</td>\n",
       "    </tr>\n",
       "    <tr>\n",
       "      <th>40</th>\n",
       "      <td>B</td>\n",
       "      <td>0.0</td>\n",
       "    </tr>\n",
       "    <tr>\n",
       "      <th>43</th>\n",
       "      <td>B</td>\n",
       "      <td>0.0</td>\n",
       "    </tr>\n",
       "    <tr>\n",
       "      <th>49</th>\n",
       "      <td>B</td>\n",
       "      <td>0.0</td>\n",
       "    </tr>\n",
       "    <tr>\n",
       "      <th>54</th>\n",
       "      <td>B</td>\n",
       "      <td>0.0</td>\n",
       "    </tr>\n",
       "  </tbody>\n",
       "</table>\n",
       "</div>"
      ],
      "text/plain": [
       "   grp  rev\n",
       "7    B  0.0\n",
       "40   B  0.0\n",
       "43   B  0.0\n",
       "49   B  0.0\n",
       "54   B  0.0"
      ]
     },
     "execution_count": 169,
     "metadata": {},
     "output_type": "execute_result"
    }
   ],
   "source": [
    "test_arpau.head()"
   ]
  },
  {
   "cell_type": "code",
   "execution_count": 275,
   "id": "0a5ed886",
   "metadata": {},
   "outputs": [],
   "source": [
    "ARPAU = round(full_df.query('active_user == 1').groupby('grp',as_index=False).agg({'rev':'mean'}),2).rename(columns={'grp':'group','rev':'ARPAU'})"
   ]
  },
  {
   "cell_type": "code",
   "execution_count": 276,
   "id": "19ad9fb8",
   "metadata": {},
   "outputs": [
    {
     "data": {
      "text/html": [
       "<div>\n",
       "<style scoped>\n",
       "    .dataframe tbody tr th:only-of-type {\n",
       "        vertical-align: middle;\n",
       "    }\n",
       "\n",
       "    .dataframe tbody tr th {\n",
       "        vertical-align: top;\n",
       "    }\n",
       "\n",
       "    .dataframe thead th {\n",
       "        text-align: right;\n",
       "    }\n",
       "</style>\n",
       "<table border=\"1\" class=\"dataframe\">\n",
       "  <thead>\n",
       "    <tr style=\"text-align: right;\">\n",
       "      <th></th>\n",
       "      <th>group</th>\n",
       "      <th>ARPAU</th>\n",
       "    </tr>\n",
       "  </thead>\n",
       "  <tbody>\n",
       "    <tr>\n",
       "      <th>0</th>\n",
       "      <td>A</td>\n",
       "      <td>47.35</td>\n",
       "    </tr>\n",
       "    <tr>\n",
       "      <th>1</th>\n",
       "      <td>B</td>\n",
       "      <td>58.06</td>\n",
       "    </tr>\n",
       "  </tbody>\n",
       "</table>\n",
       "</div>"
      ],
      "text/plain": [
       "  group  ARPAU\n",
       "0     A  47.35\n",
       "1     B  58.06"
      ]
     },
     "execution_count": 276,
     "metadata": {},
     "output_type": "execute_result"
    }
   ],
   "source": [
    "ARPAU"
   ]
  },
  {
   "cell_type": "code",
   "execution_count": 170,
   "id": "922dca60",
   "metadata": {},
   "outputs": [
    {
     "data": {
      "text/plain": [
       "<seaborn.axisgrid.FacetGrid at 0x1695c5ed0>"
      ]
     },
     "execution_count": 170,
     "metadata": {},
     "output_type": "execute_result"
    },
    {
     "data": {
      "image/png": "[encoded data removed]",
      "text/plain": [
       "<Figure size 500x500 with 1 Axes>"
      ]
     },
     "metadata": {},
     "output_type": "display_data"
    },
    {
     "data": {
      "image/png": "[encoded data removed]",
      "text/plain": [
       "<Figure size 500x500 with 1 Axes>"
      ]
     },
     "metadata": {},
     "output_type": "display_data"
    }
   ],
   "source": [
    "sns.displot(test_arpau.rev)\n",
    "sns.displot(control_arpau.rev)"
   ]
  },
  {
   "cell_type": "markdown",
   "id": "846570dd",
   "metadata": {},
   "source": [
    "Проверка требования на гомогенность дисперсий с помощью критерия Левена."
   ]
  },
  {
   "cell_type": "code",
   "execution_count": 173,
   "id": "cd506c12",
   "metadata": {},
   "outputs": [
    {
     "data": {
      "text/plain": [
       "LeveneResult(statistic=1.5014608294336391, pvalue=0.22048133327049665)"
      ]
     },
     "execution_count": 173,
     "metadata": {},
     "output_type": "execute_result"
    }
   ],
   "source": [
    "stats.levene(control_arpau.rev, test_arpau.rev)"
   ]
  },
  {
   "cell_type": "markdown",
   "id": "58bc6da2",
   "metadata": {},
   "source": [
    "pvalue=0.22048 >> 0.05, дисперсии гомогенны. "
   ]
  },
  {
   "cell_type": "code",
   "execution_count": 224,
   "id": "133eae16",
   "metadata": {},
   "outputs": [],
   "source": [
    "means_control = []\n",
    "n = 1\n",
    "\n",
    "while n < 10000:\n",
    "    n += 1\n",
    "    sample = control_arpau['rev'].sample(frac=1, replace=True).mean()\n",
    "    means_control.append(sample)"
   ]
  },
  {
   "cell_type": "code",
   "execution_count": 344,
   "id": "1938831f",
   "metadata": {},
   "outputs": [
    {
     "data": {
      "text/plain": [
       "<Axes: xlabel='Theoretical quantiles', ylabel='Ordered quantiles'>"
      ]
     },
     "execution_count": 344,
     "metadata": {},
     "output_type": "execute_result"
    },
    {
     "data": {
      "image/png": "[encoded data removed]",
      "text/plain": [
       "<Figure size 640x480 with 1 Axes>"
      ]
     },
     "metadata": {},
     "output_type": "display_data"
    }
   ],
   "source": [
    "pg.qqplot(means_control)"
   ]
  },
  {
   "cell_type": "code",
   "execution_count": 225,
   "id": "5017ffd4",
   "metadata": {},
   "outputs": [
    {
     "data": {
      "text/plain": [
       "ShapiroResult(statistic=0.9973580241203308, pvalue=2.63866467738183e-12)"
      ]
     },
     "execution_count": 225,
     "metadata": {},
     "output_type": "execute_result"
    }
   ],
   "source": [
    "shapiro(means_control)"
   ]
  },
  {
   "cell_type": "code",
   "execution_count": 226,
   "id": "db82f2df",
   "metadata": {},
   "outputs": [],
   "source": [
    "means_test = []\n",
    "n = 1\n",
    "\n",
    "while n < 10000:\n",
    "    n += 1\n",
    "    sample = test_arpau['rev'].sample(frac=1, replace=True).mean()\n",
    "    means_test.append(sample)"
   ]
  },
  {
   "cell_type": "code",
   "execution_count": 345,
   "id": "32d0e23c",
   "metadata": {},
   "outputs": [
    {
     "data": {
      "text/plain": [
       "<Axes: xlabel='Theoretical quantiles', ylabel='Ordered quantiles'>"
      ]
     },
     "execution_count": 345,
     "metadata": {},
     "output_type": "execute_result"
    },
    {
     "data": {
      "image/png": "[encoded data removed]",
      "text/plain": [
       "<Figure size 640x480 with 1 Axes>"
      ]
     },
     "metadata": {},
     "output_type": "display_data"
    }
   ],
   "source": [
    "pg.qqplot(means_test)"
   ]
  },
  {
   "cell_type": "code",
   "execution_count": 227,
   "id": "c3cd3c37",
   "metadata": {},
   "outputs": [
    {
     "data": {
      "text/plain": [
       "ShapiroResult(statistic=0.9992501139640808, pvalue=0.00021055924298707396)"
      ]
     },
     "execution_count": 227,
     "metadata": {},
     "output_type": "execute_result"
    }
   ],
   "source": [
    "shapiro(means_test)"
   ]
  },
  {
   "cell_type": "markdown",
   "id": "fca54b00",
   "metadata": {},
   "source": [
    "Распределение средних отлично от нормального, однако размер выборки позволяет нам использовать критерий Стьюдента "
   ]
  },
  {
   "cell_type": "code",
   "execution_count": 192,
   "id": "97577d37",
   "metadata": {},
   "outputs": [
    {
     "data": {
      "text/plain": [
       "TtestResult(statistic=-1.2253411073793448, pvalue=0.22048133326988373, df=8339.0)"
      ]
     },
     "execution_count": 192,
     "metadata": {},
     "output_type": "execute_result"
    }
   ],
   "source": [
    "stats.ttest_ind(control_arpau.rev, test_arpau.rev)"
   ]
  },
  {
   "cell_type": "markdown",
   "id": "161e55b5",
   "metadata": {},
   "source": [
    "Pvalue > 0.05, стат значимых различий между ARPAU в группах не удалось выявить"
   ]
  },
  {
   "cell_type": "markdown",
   "id": "4d18d84c",
   "metadata": {},
   "source": [
    "### 3. Проверяем гипотезы о равенстве средних доходов с платящих пользователей ARPPU ###"
   ]
  },
  {
   "cell_type": "markdown",
   "id": "00de39a6",
   "metadata": {},
   "source": [
    "$H_0$: нет стат значимого различия в размере среднего дохода на платящего пользователя <br/>\n",
    "$H_1$: стат значимые различия есть в ARPPU между группами есть "
   ]
  },
  {
   "cell_type": "markdown",
   "id": "cf45b557",
   "metadata": {},
   "source": [
    "аналогично проверяем требования для использования критерия Стьюдента. "
   ]
  },
  {
   "cell_type": "code",
   "execution_count": 195,
   "id": "a577ffa8",
   "metadata": {},
   "outputs": [],
   "source": [
    "pay_df_control = pay_df.loc[pay_df.grp == 'A']"
   ]
  },
  {
   "cell_type": "code",
   "execution_count": 196,
   "id": "f8cf4f17",
   "metadata": {},
   "outputs": [],
   "source": [
    "pay_df_test = pay_df.loc[pay_df.grp == 'B']"
   ]
  },
  {
   "cell_type": "code",
   "execution_count": 280,
   "id": "1bcde710",
   "metadata": {},
   "outputs": [],
   "source": [
    "ARPPU = round(full_df.query('active_user==1 and paying_user==1').groupby('grp',as_index=False).agg({'rev':'mean'}),2).rename(columns={'grp':'group','rev':'ARPPU'})"
   ]
  },
  {
   "cell_type": "code",
   "execution_count": 281,
   "id": "60425bce",
   "metadata": {},
   "outputs": [
    {
     "data": {
      "text/html": [
       "<div>\n",
       "<style scoped>\n",
       "    .dataframe tbody tr th:only-of-type {\n",
       "        vertical-align: middle;\n",
       "    }\n",
       "\n",
       "    .dataframe tbody tr th {\n",
       "        vertical-align: top;\n",
       "    }\n",
       "\n",
       "    .dataframe thead th {\n",
       "        text-align: right;\n",
       "    }\n",
       "</style>\n",
       "<table border=\"1\" class=\"dataframe\">\n",
       "  <thead>\n",
       "    <tr style=\"text-align: right;\">\n",
       "      <th></th>\n",
       "      <th>group</th>\n",
       "      <th>ARPPU</th>\n",
       "    </tr>\n",
       "  </thead>\n",
       "  <tbody>\n",
       "    <tr>\n",
       "      <th>0</th>\n",
       "      <td>A</td>\n",
       "      <td>933.59</td>\n",
       "    </tr>\n",
       "    <tr>\n",
       "      <th>1</th>\n",
       "      <td>B</td>\n",
       "      <td>1257.88</td>\n",
       "    </tr>\n",
       "  </tbody>\n",
       "</table>\n",
       "</div>"
      ],
      "text/plain": [
       "  group    ARPPU\n",
       "0     A   933.59\n",
       "1     B  1257.88"
      ]
     },
     "execution_count": 281,
     "metadata": {},
     "output_type": "execute_result"
    }
   ],
   "source": [
    "ARPPU"
   ]
  },
  {
   "cell_type": "code",
   "execution_count": 197,
   "id": "b8f9d63f",
   "metadata": {},
   "outputs": [
    {
     "data": {
      "text/plain": [
       "LeveneResult(statistic=3.075681699981606, pvalue=0.08025675761347022)"
      ]
     },
     "execution_count": 197,
     "metadata": {},
     "output_type": "execute_result"
    }
   ],
   "source": [
    "stats.levene(pay_df_control.rev, pay_df_test.rev)"
   ]
  },
  {
   "cell_type": "markdown",
   "id": "16868b4e",
   "metadata": {},
   "source": [
    "Дисперсии равны"
   ]
  },
  {
   "cell_type": "code",
   "execution_count": 228,
   "id": "1d62cf79",
   "metadata": {},
   "outputs": [],
   "source": [
    "means_pay_control = []\n",
    "n = 1\n",
    "\n",
    "while n < 10000:\n",
    "    n += 1\n",
    "    sample = pay_df_control['rev'].sample(frac=1, replace=True).mean()\n",
    "    means_pay_control.append(sample)"
   ]
  },
  {
   "cell_type": "code",
   "execution_count": 229,
   "id": "d387c55e",
   "metadata": {},
   "outputs": [
    {
     "data": {
      "text/plain": [
       "ShapiroResult(statistic=0.9969038963317871, pvalue=1.2167396539093656e-13)"
      ]
     },
     "execution_count": 229,
     "metadata": {},
     "output_type": "execute_result"
    }
   ],
   "source": [
    "shapiro(means_pay_control)"
   ]
  },
  {
   "cell_type": "code",
   "execution_count": 346,
   "id": "1744d7ff",
   "metadata": {},
   "outputs": [
    {
     "data": {
      "text/plain": [
       "<Axes: xlabel='Theoretical quantiles', ylabel='Ordered quantiles'>"
      ]
     },
     "execution_count": 346,
     "metadata": {},
     "output_type": "execute_result"
    },
    {
     "data": {
      "image/png": "[encoded data removed]",
      "text/plain": [
       "<Figure size 640x480 with 1 Axes>"
      ]
     },
     "metadata": {},
     "output_type": "display_data"
    }
   ],
   "source": [
    "pg.qqplot(means_pay_control)"
   ]
  },
  {
   "cell_type": "code",
   "execution_count": 230,
   "id": "f1c850a9",
   "metadata": {},
   "outputs": [],
   "source": [
    "means_pay_test = []\n",
    "n = 1\n",
    "\n",
    "while n < 10000:\n",
    "    n += 1\n",
    "    sample = pay_df_test['rev'].sample(frac=1, replace=True).mean()\n",
    "    means_pay_test.append(sample)"
   ]
  },
  {
   "cell_type": "code",
   "execution_count": 347,
   "id": "8d953af4",
   "metadata": {},
   "outputs": [
    {
     "data": {
      "text/plain": [
       "<Axes: xlabel='Theoretical quantiles', ylabel='Ordered quantiles'>"
      ]
     },
     "execution_count": 347,
     "metadata": {},
     "output_type": "execute_result"
    },
    {
     "data": {
      "image/png": "[encoded data removed]",
      "text/plain": [
       "<Figure size 640x480 with 1 Axes>"
      ]
     },
     "metadata": {},
     "output_type": "display_data"
    }
   ],
   "source": [
    "pg.qqplot(means_pay_test)"
   ]
  },
  {
   "cell_type": "code",
   "execution_count": 231,
   "id": "2527bb58",
   "metadata": {},
   "outputs": [
    {
     "data": {
      "text/plain": [
       "ShapiroResult(statistic=0.9996488690376282, pvalue=0.06740745902061462)"
      ]
     },
     "execution_count": 231,
     "metadata": {},
     "output_type": "execute_result"
    }
   ],
   "source": [
    "shapiro(means_pay_test)"
   ]
  },
  {
   "cell_type": "markdown",
   "id": "6b3b4bac",
   "metadata": {},
   "source": [
    "диспрерсии равны, среднее в тестовой группе распределено нормально, а в контрольной нет, однако можем применить т-тест ввиду достаточности количества данных"
   ]
  },
  {
   "cell_type": "code",
   "execution_count": 239,
   "id": "2288ad2b",
   "metadata": {},
   "outputs": [
    {
     "data": {
      "text/plain": [
       "TtestResult(statistic=-3.1337795050930985, pvalue=0.0018562025265765867, df=390.0)"
      ]
     },
     "execution_count": 239,
     "metadata": {},
     "output_type": "execute_result"
    }
   ],
   "source": [
    "stats.ttest_ind(pay_df_control.rev, pay_df_test.rev)"
   ]
  },
  {
   "cell_type": "markdown",
   "id": "2047a4f4",
   "metadata": {},
   "source": [
    "Статистический тест показал значимые различия для ARPPU."
   ]
  },
  {
   "cell_type": "markdown",
   "id": "f374031c",
   "metadata": {},
   "source": [
    "<a name=\"summary\"></a> \n",
    "## Вывод"
   ]
  },
  {
   "cell_type": "markdown",
   "id": "4c3f7cd7",
   "metadata": {},
   "source": [
    "Подведем итоги: \n",
    "1. Абсолютное значение **конверсии** в тестовой группе снизилось по сравнению с контрольной, стат. тест **НЕ показал стат. значимых различий**. \n",
    "2. Стат значимых различий между **ARPAU** в группах **не удалось выявить**\n",
    "3. Статистический тест **показал значимые различия для ARPPU.**\n",
    "\n",
    "**Вывод:** <br>\n",
    "На мой взгляд, прежде, чем принимать какое-то решение необходимо узнать/уточнить природу выявленных аномалий в данных (возможно это ошибка и нужно перепроверить весь эксперимент, мб мое предположение с подпиской верно и эти данные нужно включить). <br>\n",
    "\n",
    "Если все же брать текущие итоги, то здесь также стоит уточнить/согласовать с бизнесом основную метрику, на которую они ориентируются: ARPAU/ARPPU. От этого будет зависеть решение, выкатывать в прод (если ARPPU) или нет (если ARPAU). <br> \n",
    "На мой взгляд (если бы я была на месте бизнеса), с учетом аномалий и того факта, что стат значимые различия были только у ARPPU, я бы не стала выкатывать эту фичу на всех. "
   ]
  },
  {
   "cell_type": "markdown",
   "id": "95566cbd",
   "metadata": {},
   "source": [
    "<a name=\"SQL\"></a> \n",
    "## Задание 2. SQL"
   ]
  },
  {
   "cell_type": "markdown",
   "id": "838cd142",
   "metadata": {},
   "source": [
    "**Условие** <br/>\n",
    "\n",
    "Образовательные курсы состоят из различных уроков, каждый из которых состоит из нескольких маленьких заданий. Каждое такое маленькое задание называется \"горошиной\". <br/>\n",
    "\n",
    "Назовём очень усердным учеником того пользователя, который хотя бы раз за текущий месяц правильно решил 20 горошин. <br/>\n",
    "\n",
    "**Задача №1** <br/>\n",
    "\n",
    "Необходимо написать оптимальный запрос, который даст информацию о количестве очень усердных студентов.NB! Под усердным студентом мы понимаем студента, который правильно решил 20 задач за текущий месяц."
   ]
  },
  {
   "cell_type": "markdown",
   "id": "1ec9c3ca",
   "metadata": {},
   "source": [
    "Подключаемся к БД (СН). "
   ]
  },
  {
   "cell_type": "code",
   "execution_count": 244,
   "id": "46e608c6",
   "metadata": {},
   "outputs": [],
   "source": [
    "connection = dict(database= 'default',\n",
    "                  host='https://clickhouse.lab.karpov.courses',\n",
    "                  user='student',\n",
    "                  password='dpo_python_2020')"
   ]
  },
  {
   "cell_type": "code",
   "execution_count": 245,
   "id": "0562f9a3",
   "metadata": {},
   "outputs": [
    {
     "ename": "KeyError",
     "evalue": "'DateTime64(3)'",
     "output_type": "error",
     "traceback": [
      "\u001b[0;31m---------------------------------------------------------------------------\u001b[0m",
      "\u001b[0;31mKeyError\u001b[0m                                  Traceback (most recent call last)",
      "Cell \u001b[0;32mIn[245], line 6\u001b[0m\n\u001b[1;32m      1\u001b[0m query \u001b[38;5;241m=\u001b[39m \u001b[38;5;124m\"\"\"\u001b[39m\n\u001b[1;32m      2\u001b[0m \u001b[38;5;124mselect *\u001b[39m\n\u001b[1;32m      3\u001b[0m \u001b[38;5;124mfrom default.peas\u001b[39m\n\u001b[1;32m      4\u001b[0m \u001b[38;5;124mlimit 5\u001b[39m\n\u001b[1;32m      5\u001b[0m \u001b[38;5;124m\"\"\"\u001b[39m\n\u001b[0;32m----> 6\u001b[0m peas \u001b[38;5;241m=\u001b[39m ph\u001b[38;5;241m.\u001b[39mread_clickhouse(query, connection\u001b[38;5;241m=\u001b[39mconnection)\n\u001b[1;32m      7\u001b[0m peas\n",
      "File \u001b[0;32m/opt/anaconda3/lib/python3.11/site-packages/pandahouse/core.py:58\u001b[0m, in \u001b[0;36mread_clickhouse\u001b[0;34m(query, tables, index, connection, **kwargs)\u001b[0m\n\u001b[1;32m     55\u001b[0m query, external \u001b[38;5;241m=\u001b[39m selection(query, tables\u001b[38;5;241m=\u001b[39mtables, index\u001b[38;5;241m=\u001b[39mindex)\n\u001b[1;32m     56\u001b[0m lines \u001b[38;5;241m=\u001b[39m execute(query, external\u001b[38;5;241m=\u001b[39mexternal, stream\u001b[38;5;241m=\u001b[39m\u001b[38;5;28;01mTrue\u001b[39;00m,\n\u001b[1;32m     57\u001b[0m                 connection\u001b[38;5;241m=\u001b[39mconnection)\n\u001b[0;32m---> 58\u001b[0m \u001b[38;5;28;01mreturn\u001b[39;00m to_dataframe(lines, \u001b[38;5;241m*\u001b[39m\u001b[38;5;241m*\u001b[39mkwargs)\n",
      "File \u001b[0;32m/opt/anaconda3/lib/python3.11/site-packages/pandahouse/convert.py:67\u001b[0m, in \u001b[0;36mto_dataframe\u001b[0;34m(lines, **kwargs)\u001b[0m\n\u001b[1;32m     65\u001b[0m dtypes, parse_dates, converters \u001b[38;5;241m=\u001b[39m {}, [], {}\n\u001b[1;32m     66\u001b[0m \u001b[38;5;28;01mfor\u001b[39;00m name, chtype \u001b[38;5;129;01min\u001b[39;00m \u001b[38;5;28mzip\u001b[39m(names, types):\n\u001b[0;32m---> 67\u001b[0m     dtype \u001b[38;5;241m=\u001b[39m CH2PD[chtype]\n\u001b[1;32m     68\u001b[0m     \u001b[38;5;28;01mif\u001b[39;00m dtype \u001b[38;5;241m==\u001b[39m \u001b[38;5;124m'\u001b[39m\u001b[38;5;124mobject\u001b[39m\u001b[38;5;124m'\u001b[39m:\n\u001b[1;32m     69\u001b[0m         converters[name] \u001b[38;5;241m=\u001b[39m decode_escapes\n",
      "\u001b[0;31mKeyError\u001b[0m: 'DateTime64(3)'"
     ]
    }
   ],
   "source": [
    "query = \"\"\"\n",
    "select *\n",
    "from default.peas\n",
    "limit 5\n",
    "\"\"\"\n",
    "peas = ph.read_clickhouse(query, connection=connection)\n",
    "peas"
   ]
  },
  {
   "cell_type": "code",
   "execution_count": 246,
   "id": "21aba51d",
   "metadata": {},
   "outputs": [
    {
     "data": {
      "text/html": [
       "<div>\n",
       "<style scoped>\n",
       "    .dataframe tbody tr th:only-of-type {\n",
       "        vertical-align: middle;\n",
       "    }\n",
       "\n",
       "    .dataframe tbody tr th {\n",
       "        vertical-align: top;\n",
       "    }\n",
       "\n",
       "    .dataframe thead th {\n",
       "        text-align: right;\n",
       "    }\n",
       "</style>\n",
       "<table border=\"1\" class=\"dataframe\">\n",
       "  <thead>\n",
       "    <tr style=\"text-align: right;\">\n",
       "      <th></th>\n",
       "      <th>st_id</th>\n",
       "      <th>timest</th>\n",
       "      <th>correct</th>\n",
       "      <th>subject</th>\n",
       "    </tr>\n",
       "  </thead>\n",
       "  <tbody>\n",
       "    <tr>\n",
       "      <th>0</th>\n",
       "      <td>100379</td>\n",
       "      <td>2021-10-30 13:32:29</td>\n",
       "      <td>1</td>\n",
       "      <td>Theory of probability</td>\n",
       "    </tr>\n",
       "    <tr>\n",
       "      <th>1</th>\n",
       "      <td>100379</td>\n",
       "      <td>2021-10-30 14:11:19</td>\n",
       "      <td>0</td>\n",
       "      <td>Vizualization</td>\n",
       "    </tr>\n",
       "    <tr>\n",
       "      <th>2</th>\n",
       "      <td>100379</td>\n",
       "      <td>2021-10-30 15:54:22</td>\n",
       "      <td>1</td>\n",
       "      <td>Theory of probability</td>\n",
       "    </tr>\n",
       "    <tr>\n",
       "      <th>3</th>\n",
       "      <td>100379</td>\n",
       "      <td>2021-10-30 16:44:50</td>\n",
       "      <td>1</td>\n",
       "      <td>Vizualization</td>\n",
       "    </tr>\n",
       "    <tr>\n",
       "      <th>4</th>\n",
       "      <td>100379</td>\n",
       "      <td>2021-10-30 17:15:05</td>\n",
       "      <td>1</td>\n",
       "      <td>Theory of probability</td>\n",
       "    </tr>\n",
       "  </tbody>\n",
       "</table>\n",
       "</div>"
      ],
      "text/plain": [
       "    st_id              timest  correct                subject\n",
       "0  100379 2021-10-30 13:32:29        1  Theory of probability\n",
       "1  100379 2021-10-30 14:11:19        0          Vizualization\n",
       "2  100379 2021-10-30 15:54:22        1  Theory of probability\n",
       "3  100379 2021-10-30 16:44:50        1          Vizualization\n",
       "4  100379 2021-10-30 17:15:05        1  Theory of probability"
      ]
     },
     "execution_count": 246,
     "metadata": {},
     "output_type": "execute_result"
    }
   ],
   "source": [
    "query = \"\"\"\n",
    "select \n",
    "        st_id, \n",
    "        toDateTime(timest) as timest, \n",
    "        correct, \n",
    "        subject\n",
    "from default.peas\n",
    "limit 5\n",
    "\"\"\"\n",
    "peas = ph.read_clickhouse(query, connection=connection)\n",
    "peas"
   ]
  },
  {
   "cell_type": "code",
   "execution_count": 247,
   "id": "96fb999b",
   "metadata": {},
   "outputs": [],
   "source": [
    "def print(query):\n",
    "    peas = ph.read_clickhouse(query, connection=connection)\n",
    "    return peas"
   ]
  },
  {
   "cell_type": "code",
   "execution_count": 249,
   "id": "912dc8c7",
   "metadata": {},
   "outputs": [
    {
     "data": {
      "text/html": [
       "<div>\n",
       "<style scoped>\n",
       "    .dataframe tbody tr th:only-of-type {\n",
       "        vertical-align: middle;\n",
       "    }\n",
       "\n",
       "    .dataframe tbody tr th {\n",
       "        vertical-align: top;\n",
       "    }\n",
       "\n",
       "    .dataframe thead th {\n",
       "        text-align: right;\n",
       "    }\n",
       "</style>\n",
       "<table border=\"1\" class=\"dataframe\">\n",
       "  <thead>\n",
       "    <tr style=\"text-align: right;\">\n",
       "      <th></th>\n",
       "      <th>max(toDateTime(timest))</th>\n",
       "      <th>min(toDateTime(timest))</th>\n",
       "    </tr>\n",
       "  </thead>\n",
       "  <tbody>\n",
       "    <tr>\n",
       "      <th>0</th>\n",
       "      <td>2021-10-31 17:29:52</td>\n",
       "      <td>2021-10-30 13:00:00</td>\n",
       "    </tr>\n",
       "  </tbody>\n",
       "</table>\n",
       "</div>"
      ],
      "text/plain": [
       "  max(toDateTime(timest)) min(toDateTime(timest))\n",
       "0     2021-10-31 17:29:52     2021-10-30 13:00:00"
      ]
     },
     "execution_count": 249,
     "metadata": {},
     "output_type": "execute_result"
    }
   ],
   "source": [
    "print(\"\"\"\n",
    "select \n",
    "        max(toDateTime(timest)), \n",
    "        min(toDateTime(timest))\n",
    "from default.peas\n",
    "\"\"\"\n",
    ")"
   ]
  },
  {
   "cell_type": "code",
   "execution_count": 250,
   "id": "d730db1d",
   "metadata": {},
   "outputs": [
    {
     "data": {
      "text/html": [
       "<div>\n",
       "<style scoped>\n",
       "    .dataframe tbody tr th:only-of-type {\n",
       "        vertical-align: middle;\n",
       "    }\n",
       "\n",
       "    .dataframe tbody tr th {\n",
       "        vertical-align: top;\n",
       "    }\n",
       "\n",
       "    .dataframe thead th {\n",
       "        text-align: right;\n",
       "    }\n",
       "</style>\n",
       "<table border=\"1\" class=\"dataframe\">\n",
       "  <thead>\n",
       "    <tr style=\"text-align: right;\">\n",
       "      <th></th>\n",
       "      <th>uniqExact(st_id)</th>\n",
       "    </tr>\n",
       "  </thead>\n",
       "  <tbody>\n",
       "    <tr>\n",
       "      <th>0</th>\n",
       "      <td>308</td>\n",
       "    </tr>\n",
       "  </tbody>\n",
       "</table>\n",
       "</div>"
      ],
      "text/plain": [
       "   uniqExact(st_id)\n",
       "0               308"
      ]
     },
     "execution_count": 250,
     "metadata": {},
     "output_type": "execute_result"
    }
   ],
   "source": [
    "print(\"\"\"\n",
    "select \n",
    "        count(distinct st_id)\n",
    "from default.peas\n",
    "\"\"\"\n",
    ")"
   ]
  },
  {
   "cell_type": "code",
   "execution_count": 253,
   "id": "b7db8772",
   "metadata": {},
   "outputs": [
    {
     "data": {
      "text/html": [
       "<div>\n",
       "<style scoped>\n",
       "    .dataframe tbody tr th:only-of-type {\n",
       "        vertical-align: middle;\n",
       "    }\n",
       "\n",
       "    .dataframe tbody tr th {\n",
       "        vertical-align: top;\n",
       "    }\n",
       "\n",
       "    .dataframe thead th {\n",
       "        text-align: right;\n",
       "    }\n",
       "</style>\n",
       "<table border=\"1\" class=\"dataframe\">\n",
       "  <thead>\n",
       "    <tr style=\"text-align: right;\">\n",
       "      <th></th>\n",
       "      <th>good_studs</th>\n",
       "    </tr>\n",
       "  </thead>\n",
       "  <tbody>\n",
       "    <tr>\n",
       "      <th>0</th>\n",
       "      <td>136</td>\n",
       "    </tr>\n",
       "  </tbody>\n",
       "</table>\n",
       "</div>"
      ],
      "text/plain": [
       "   good_studs\n",
       "0         136"
      ]
     },
     "execution_count": 253,
     "metadata": {},
     "output_type": "execute_result"
    }
   ],
   "source": [
    "print(\"\"\"\n",
    "select \n",
    "    count(distinct st_id) as good_studs\n",
    "from default.peas\n",
    "where st_id in (\n",
    "                select st_id \n",
    "                from default.peas\n",
    "                group by st_id\n",
    "                having sum(correct) >=20\n",
    "                )\n",
    "\"\"\"\n",
    ")"
   ]
  },
  {
   "cell_type": "markdown",
   "id": "854cacea",
   "metadata": {},
   "source": [
    "Если бы были еще задачи, в ктр необходимы усердные ученики, то с тз оптимальности нужно было бы вынести подзапрос в cte и переиспользовать его, но в рамках этой небольшой задачи можно ограничиться и подзапросом. "
   ]
  },
  {
   "cell_type": "markdown",
   "id": "d6379603",
   "metadata": {},
   "source": [
    "### Ответ ###\n",
    "\n",
    "Количество очень усердных студентов: 136"
   ]
  },
  {
   "cell_type": "markdown",
   "id": "44b67e41",
   "metadata": {},
   "source": [
    "**Задача №2** <br/>\n",
    "\n",
    "**Условие**\n",
    "\n",
    "Образовательная платформа предлагает пройти студентам курсы по модели trial: студент может решить бесплатно лишь 30 горошин в день. Для неограниченного количества заданий в определенной дисциплине студенту необходимо приобрести полный доступ. Команда провела эксперимент, где был протестирован новый экран оплаты.\n",
    "\n",
    "**Необходимо в одном запросе выгрузить следующую информацию о группах пользователей:**\n",
    "\n",
    "1. ARPU \n",
    "2. ARPAU \n",
    "3. CR в покупку \n",
    "4. СR активного пользователя в покупку \n",
    "5. CR пользователя из активности по математике (subject = ’math’) в покупку курса по математике\n",
    "\n",
    "ARPU считается относительно всех пользователей, попавших в группы.\n",
    "\n",
    "Активным считается пользователь, за все время решивший больше 10 задач правильно в любых дисциплинах.\n",
    "\n",
    "Активным по математике считается пользователь, за все время решивший 2 или больше задач правильно по математике."
   ]
  },
  {
   "cell_type": "code",
   "execution_count": 266,
   "id": "ac82b056",
   "metadata": {},
   "outputs": [
    {
     "data": {
      "text/html": [
       "<div>\n",
       "<style scoped>\n",
       "    .dataframe tbody tr th:only-of-type {\n",
       "        vertical-align: middle;\n",
       "    }\n",
       "\n",
       "    .dataframe tbody tr th {\n",
       "        vertical-align: top;\n",
       "    }\n",
       "\n",
       "    .dataframe thead th {\n",
       "        text-align: right;\n",
       "    }\n",
       "</style>\n",
       "<table border=\"1\" class=\"dataframe\">\n",
       "  <thead>\n",
       "    <tr style=\"text-align: right;\">\n",
       "      <th></th>\n",
       "      <th>st_id</th>\n",
       "      <th>test_grp</th>\n",
       "    </tr>\n",
       "  </thead>\n",
       "  <tbody>\n",
       "    <tr>\n",
       "      <th>0</th>\n",
       "      <td>100379</td>\n",
       "      <td>pilot</td>\n",
       "    </tr>\n",
       "    <tr>\n",
       "      <th>1</th>\n",
       "      <td>101432</td>\n",
       "      <td>control</td>\n",
       "    </tr>\n",
       "    <tr>\n",
       "      <th>2</th>\n",
       "      <td>104818</td>\n",
       "      <td>pilot</td>\n",
       "    </tr>\n",
       "    <tr>\n",
       "      <th>3</th>\n",
       "      <td>104885</td>\n",
       "      <td>pilot</td>\n",
       "    </tr>\n",
       "    <tr>\n",
       "      <th>4</th>\n",
       "      <td>104966</td>\n",
       "      <td>pilot</td>\n",
       "    </tr>\n",
       "  </tbody>\n",
       "</table>\n",
       "</div>"
      ],
      "text/plain": [
       "    st_id test_grp\n",
       "0  100379    pilot\n",
       "1  101432  control\n",
       "2  104818    pilot\n",
       "3  104885    pilot\n",
       "4  104966    pilot"
      ]
     },
     "execution_count": 266,
     "metadata": {},
     "output_type": "execute_result"
    }
   ],
   "source": [
    "print(\"\"\"\n",
    "select \n",
    "    *\n",
    "from default.studs\n",
    "limit 5\n",
    "\"\"\"\n",
    ")"
   ]
  },
  {
   "cell_type": "code",
   "execution_count": 257,
   "id": "8ce13dcf",
   "metadata": {},
   "outputs": [
    {
     "data": {
      "text/html": [
       "<div>\n",
       "<style scoped>\n",
       "    .dataframe tbody tr th:only-of-type {\n",
       "        vertical-align: middle;\n",
       "    }\n",
       "\n",
       "    .dataframe tbody tr th {\n",
       "        vertical-align: top;\n",
       "    }\n",
       "\n",
       "    .dataframe thead th {\n",
       "        text-align: right;\n",
       "    }\n",
       "</style>\n",
       "<table border=\"1\" class=\"dataframe\">\n",
       "  <thead>\n",
       "    <tr style=\"text-align: right;\">\n",
       "      <th></th>\n",
       "      <th>st_id</th>\n",
       "      <th>sale_time</th>\n",
       "      <th>money</th>\n",
       "      <th>subject</th>\n",
       "    </tr>\n",
       "  </thead>\n",
       "  <tbody>\n",
       "    <tr>\n",
       "      <th>0</th>\n",
       "      <td>101432</td>\n",
       "      <td>2021-10-31 04:44:32</td>\n",
       "      <td>85000</td>\n",
       "      <td>Math</td>\n",
       "    </tr>\n",
       "    <tr>\n",
       "      <th>1</th>\n",
       "      <td>101432</td>\n",
       "      <td>2021-10-31 12:43:50</td>\n",
       "      <td>65000</td>\n",
       "      <td>Vizualization</td>\n",
       "    </tr>\n",
       "    <tr>\n",
       "      <th>2</th>\n",
       "      <td>104885</td>\n",
       "      <td>2021-10-30 17:05:55</td>\n",
       "      <td>65000</td>\n",
       "      <td>Vizualization</td>\n",
       "    </tr>\n",
       "    <tr>\n",
       "      <th>3</th>\n",
       "      <td>104885</td>\n",
       "      <td>2021-10-30 22:49:33</td>\n",
       "      <td>75000</td>\n",
       "      <td>Statistics</td>\n",
       "    </tr>\n",
       "    <tr>\n",
       "      <th>4</th>\n",
       "      <td>106464</td>\n",
       "      <td>2021-10-31 13:17:13</td>\n",
       "      <td>85000</td>\n",
       "      <td>Math</td>\n",
       "    </tr>\n",
       "  </tbody>\n",
       "</table>\n",
       "</div>"
      ],
      "text/plain": [
       "    st_id           sale_time  money        subject\n",
       "0  101432 2021-10-31 04:44:32  85000           Math\n",
       "1  101432 2021-10-31 12:43:50  65000  Vizualization\n",
       "2  104885 2021-10-30 17:05:55  65000  Vizualization\n",
       "3  104885 2021-10-30 22:49:33  75000     Statistics\n",
       "4  106464 2021-10-31 13:17:13  85000           Math"
      ]
     },
     "execution_count": 257,
     "metadata": {},
     "output_type": "execute_result"
    }
   ],
   "source": [
    "print(\"\"\"\n",
    "select \n",
    "    st_id, \n",
    "    toDateTime(sale_time) as sale_time, \n",
    "    money, \n",
    "    subject\n",
    "from default.final_project_check\n",
    "limit 5\n",
    "\"\"\"\n",
    ")"
   ]
  },
  {
   "cell_type": "code",
   "execution_count": 260,
   "id": "488a0b42",
   "metadata": {},
   "outputs": [
    {
     "data": {
      "text/html": [
       "<div>\n",
       "<style scoped>\n",
       "    .dataframe tbody tr th:only-of-type {\n",
       "        vertical-align: middle;\n",
       "    }\n",
       "\n",
       "    .dataframe tbody tr th {\n",
       "        vertical-align: top;\n",
       "    }\n",
       "\n",
       "    .dataframe thead th {\n",
       "        text-align: right;\n",
       "    }\n",
       "</style>\n",
       "<table border=\"1\" class=\"dataframe\">\n",
       "  <thead>\n",
       "    <tr style=\"text-align: right;\">\n",
       "      <th></th>\n",
       "      <th>uniqExact(st_id)</th>\n",
       "    </tr>\n",
       "  </thead>\n",
       "  <tbody>\n",
       "    <tr>\n",
       "      <th>0</th>\n",
       "      <td>47</td>\n",
       "    </tr>\n",
       "  </tbody>\n",
       "</table>\n",
       "</div>"
      ],
      "text/plain": [
       "   uniqExact(st_id)\n",
       "0                47"
      ]
     },
     "execution_count": 260,
     "metadata": {},
     "output_type": "execute_result"
    }
   ],
   "source": [
    "print(\"\"\"\n",
    "select \n",
    "    uniqExact(st_id)\n",
    "from default.final_project_check\n",
    "\"\"\"\n",
    ")"
   ]
  },
  {
   "cell_type": "code",
   "execution_count": 261,
   "id": "ea0e470d",
   "metadata": {},
   "outputs": [
    {
     "data": {
      "text/html": [
       "<div>\n",
       "<style scoped>\n",
       "    .dataframe tbody tr th:only-of-type {\n",
       "        vertical-align: middle;\n",
       "    }\n",
       "\n",
       "    .dataframe tbody tr th {\n",
       "        vertical-align: top;\n",
       "    }\n",
       "\n",
       "    .dataframe thead th {\n",
       "        text-align: right;\n",
       "    }\n",
       "</style>\n",
       "<table border=\"1\" class=\"dataframe\">\n",
       "  <thead>\n",
       "    <tr style=\"text-align: right;\">\n",
       "      <th></th>\n",
       "      <th>uniqExact(st_id)</th>\n",
       "    </tr>\n",
       "  </thead>\n",
       "  <tbody>\n",
       "    <tr>\n",
       "      <th>0</th>\n",
       "      <td>600</td>\n",
       "    </tr>\n",
       "  </tbody>\n",
       "</table>\n",
       "</div>"
      ],
      "text/plain": [
       "   uniqExact(st_id)\n",
       "0               600"
      ]
     },
     "execution_count": 261,
     "metadata": {},
     "output_type": "execute_result"
    }
   ],
   "source": [
    "print(\"\"\"\n",
    "select \n",
    "    uniqExact(st_id)\n",
    "from default.studs\n",
    "\"\"\"\n",
    ")"
   ]
  },
  {
   "cell_type": "code",
   "execution_count": 268,
   "id": "2f461903",
   "metadata": {},
   "outputs": [
    {
     "data": {
      "text/html": [
       "<div>\n",
       "<style scoped>\n",
       "    .dataframe tbody tr th:only-of-type {\n",
       "        vertical-align: middle;\n",
       "    }\n",
       "\n",
       "    .dataframe tbody tr th {\n",
       "        vertical-align: top;\n",
       "    }\n",
       "\n",
       "    .dataframe thead th {\n",
       "        text-align: right;\n",
       "    }\n",
       "</style>\n",
       "<table border=\"1\" class=\"dataframe\">\n",
       "  <thead>\n",
       "    <tr style=\"text-align: right;\">\n",
       "      <th></th>\n",
       "      <th>test_grp</th>\n",
       "      <th>ARPU</th>\n",
       "      <th>ARPAU</th>\n",
       "      <th>CR_gen</th>\n",
       "      <th>CR_act</th>\n",
       "      <th>CR_act_math</th>\n",
       "    </tr>\n",
       "  </thead>\n",
       "  <tbody>\n",
       "    <tr>\n",
       "      <th>0</th>\n",
       "      <td>control</td>\n",
       "      <td>4540.98</td>\n",
       "      <td>10393.70</td>\n",
       "      <td>4.92</td>\n",
       "      <td>11.02</td>\n",
       "      <td>6.12</td>\n",
       "    </tr>\n",
       "    <tr>\n",
       "      <th>1</th>\n",
       "      <td>pilot</td>\n",
       "      <td>11508.47</td>\n",
       "      <td>29739.58</td>\n",
       "      <td>10.85</td>\n",
       "      <td>26.04</td>\n",
       "      <td>9.52</td>\n",
       "    </tr>\n",
       "  </tbody>\n",
       "</table>\n",
       "</div>"
      ],
      "text/plain": [
       "  test_grp      ARPU     ARPAU  CR_gen  CR_act  CR_act_math\n",
       "0  control   4540.98  10393.70    4.92   11.02         6.12\n",
       "1    pilot  11508.47  29739.58   10.85   26.04         9.52"
      ]
     },
     "execution_count": 268,
     "metadata": {},
     "output_type": "execute_result"
    }
   ],
   "source": [
    "print(\"\"\"\n",
    "select \n",
    "    test_grp,\n",
    "    round(sum(money) / uniqExact(s.st_id), 2)as ARPU, \n",
    "    round(sumIf(money, active_user >10) / uniqExactIf(s.st_id, active_user >10),2) as ARPAU, \n",
    "    round(uniqExactIf(s.st_id, money > 0) / uniqExact(s.st_id)*100, 2) as CR_gen, \n",
    "    round(uniqExactIf(s.st_id, money > 0 and active_user >10) / uniqExactIf(s.st_id, active_user >10)*100,2) as CR_act, \n",
    "    round(uniqExactIf(s.st_id, money > 0 and math_active >=2 and subject = 'Math') / uniqExactIf(s.st_id, math_active >= 2)*100, 2) as CR_act_math\n",
    "from \n",
    "    default.studs as s\n",
    "left join \n",
    "    default.final_project_check as c\n",
    "on s.st_id = c.st_id\n",
    "left join \n",
    "    (select  \n",
    "        st_id, \n",
    "        sumIf(correct,  subject = 'Math') as math_active, \n",
    "        sum(correct) as active_user\n",
    "    from default.peas\n",
    "    group by st_id) t\n",
    "on s.st_id = t.st_id\n",
    "group by test_grp\n",
    "\n",
    "\"\"\"\n",
    ")"
   ]
  },
  {
   "cell_type": "markdown",
   "id": "b588cbfb",
   "metadata": {},
   "source": [
    "<a name=\"function\"></a> \n",
    "### Задание 3. Python"
   ]
  },
  {
   "cell_type": "markdown",
   "id": "49a3ce0b",
   "metadata": {},
   "source": [
    "**Задача №1.**\n",
    "\n",
    "Реализуйте функцию, которая будет автоматически подгружать информацию из дополнительного файла groups_add.csv (заголовки могут отличаться) и на основании дополнительных параметров пересчитывать метрики."
   ]
  },
  {
   "cell_type": "markdown",
   "id": "f3d60912",
   "metadata": {},
   "source": [
    "сделаем допущение, что все остальные дата-сеты у нас уже загружены и помещены в дата-фреймы, поэтому сделаем загрузку только для groups_add, ктр расположен на Я.диске. "
   ]
  },
  {
   "cell_type": "code",
   "execution_count": 324,
   "id": "83a527b8",
   "metadata": {},
   "outputs": [],
   "source": [
    "def add_grp(groups, active_studs, checks):\n",
    "    base_url = 'https://cloud-api.yandex.net/v1/disk/public/resources/download?'\n",
    "    # можно будет подставить свой url в public_key\n",
    "    public_key = 'https://disk.yandex.ru/d/5Kxrz02m3IBUwQ'\n",
    "    final_url = base_url + urlencode(dict(public_key=public_key))\n",
    "    response = requests.get(final_url) \n",
    "    # допустим, что сепаратом опять выступает запятая, но лучше уточнить, \n",
    "    # чтобы было удобнее менять в случае, если какой-то иной символ\n",
    "    groups_add = pd.read_csv(response.json()['href'], sep=',')\n",
    "    # чекнем размерность (кол-во столбцов) дата-фрейма перед тем, как делать union с основной таблицей \n",
    "    if groups_add.shape[1] != 2:\n",
    "        return None\n",
    "    # На всякий случай переименуем заголовки столбцов, чтобы совпадало с основной таблицей \n",
    "    groups_add.rename(columns=({groups_add.columns[0]: 'id', groups_add.columns[1]: 'grp'}), inplace=True)  \n",
    "    # теперь можно объединить с основным \n",
    "    full_groups = pd.concat([groups_add, groups])\n",
    "    # чекаем, что ничего не потеряли \n",
    "    full_groups.shape[0] == groups_add.shape[0] + groups.shape[0]\n",
    "\n",
    "    # начинаем работать со всеми таблицами, чтобы рассчитать метрики \n",
    "    full_groups['active_user'] = full_groups['id'].isin(active_studs.student_id).astype(int)\n",
    "    full_groups['paying_user'] = full_groups['id'].isin(checks.id).astype(int)\n",
    "    full_data = full_groups.merge(checks, how='left', on = 'id').fillna(0)\n",
    "    \n",
    "    # расчет мерик (конверсии , ARPAU, ARPPU), но сначала сделаем нашу основную таблицу со всеми метриками \n",
    "    # глобальной, чтобы она была \"видна\" вне этой функции\n",
    "    global metric_table\n",
    "    metric_table = full_data.query('active_user == 1').groupby('grp', as_index=False).agg({'active_user':'sum', 'paying_user':'sum','rev':'sum'})\n",
    "    metric_table['CR'] = round(((metric_table.paying_user / metric_table.active_user)*100),2)\n",
    "    metric_table['ARPAU'] = round((metric_table.rev / metric_table.active_user),2)\n",
    "    metric_table['ARPPU'] = round((metric_table.rev / metric_table.paying_user),2)\n",
    "\n",
    "    return metric_table  "
   ]
  },
  {
   "cell_type": "code",
   "execution_count": 325,
   "id": "0a0a383a",
   "metadata": {},
   "outputs": [
    {
     "data": {
      "text/html": [
       "<div>\n",
       "<style scoped>\n",
       "    .dataframe tbody tr th:only-of-type {\n",
       "        vertical-align: middle;\n",
       "    }\n",
       "\n",
       "    .dataframe tbody tr th {\n",
       "        vertical-align: top;\n",
       "    }\n",
       "\n",
       "    .dataframe thead th {\n",
       "        text-align: right;\n",
       "    }\n",
       "</style>\n",
       "<table border=\"1\" class=\"dataframe\">\n",
       "  <thead>\n",
       "    <tr style=\"text-align: right;\">\n",
       "      <th></th>\n",
       "      <th>grp</th>\n",
       "      <th>active_user</th>\n",
       "      <th>paying_user</th>\n",
       "      <th>rev</th>\n",
       "      <th>CR</th>\n",
       "      <th>ARPAU</th>\n",
       "      <th>ARPPU</th>\n",
       "    </tr>\n",
       "  </thead>\n",
       "  <tbody>\n",
       "    <tr>\n",
       "      <th>0</th>\n",
       "      <td>A</td>\n",
       "      <td>1538</td>\n",
       "      <td>78</td>\n",
       "      <td>72820.0000</td>\n",
       "      <td>5.07</td>\n",
       "      <td>47.35</td>\n",
       "      <td>933.59</td>\n",
       "    </tr>\n",
       "    <tr>\n",
       "      <th>1</th>\n",
       "      <td>B</td>\n",
       "      <td>6803</td>\n",
       "      <td>314</td>\n",
       "      <td>394974.0035</td>\n",
       "      <td>4.62</td>\n",
       "      <td>58.06</td>\n",
       "      <td>1257.88</td>\n",
       "    </tr>\n",
       "  </tbody>\n",
       "</table>\n",
       "</div>"
      ],
      "text/plain": [
       "  grp  active_user  paying_user          rev    CR  ARPAU    ARPPU\n",
       "0   A         1538           78   72820.0000  5.07  47.35   933.59\n",
       "1   B         6803          314  394974.0035  4.62  58.06  1257.88"
      ]
     },
     "execution_count": 325,
     "metadata": {},
     "output_type": "execute_result"
    }
   ],
   "source": [
    "add_grp(groups, active_studs, checks)"
   ]
  },
  {
   "cell_type": "markdown",
   "id": "80968991",
   "metadata": {},
   "source": [
    "**Задача №2.**\n",
    "\n",
    "Реализуйте функцию, которая будет строить графики по получаемым метрикам."
   ]
  },
  {
   "cell_type": "code",
   "execution_count": 340,
   "id": "571799ca",
   "metadata": {},
   "outputs": [],
   "source": [
    "def plots_met(metric):\n",
    "    plt.figure(figsize=(16, 5))\n",
    "    plt.subplot(1, 3, 1)\n",
    "    sns.barplot(x = \"grp\", y = \"CR\", data = metric_table, palette = \"crest\")\n",
    "    plt.title(\"Конверсия\")\n",
    "    plt.subplot(1, 3, 2)\n",
    "    sns.barplot(x = \"grp\", y = \"ARPAU\", data = metric_table, palette = \"crest\")\n",
    "    plt.title(\"ARPAU\")\n",
    "    plt.subplot(1, 3, 3)\n",
    "    sns.barplot(x = \"grp\", y = \"ARPPU\", data = metric_table, palette = \"crest\")\n",
    "    plt.title(\"ARPPU\")\n",
    "    plt.show()"
   ]
  },
  {
   "cell_type": "code",
   "execution_count": 341,
   "id": "e14f88f6",
   "metadata": {},
   "outputs": [
    {
     "data": {
      "image/png": "[encoded data removed]",
      "text/plain": [
       "<Figure size 1600x500 with 3 Axes>"
      ]
     },
     "metadata": {},
     "output_type": "display_data"
    }
   ],
   "source": [
    "plots_met(metric_table)"
   ]
  }
 ],
 "metadata": {
  "kernelspec": {
   "display_name": "Python 3 (ipykernel)",
   "language": "python",
   "name": "python3"
  },
  "language_info": {
   "codemirror_mode": {
    "name": "ipython",
    "version": 3
   },
   "file_extension": ".py",
   "mimetype": "text/x-python",
   "name": "python",
   "nbconvert_exporter": "python",
   "pygments_lexer": "ipython3",
   "version": "3.11.0"
  }
 },
 "nbformat": 4,
 "nbformat_minor": 5
}
